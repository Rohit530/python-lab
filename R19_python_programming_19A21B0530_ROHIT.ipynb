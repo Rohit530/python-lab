{
  "nbformat": 4,
  "nbformat_minor": 0,
  "metadata": {
    "colab": {
      "name": "R19/ python programming/ 19A21B0530-ROHIT",
      "provenance": [],
      "include_colab_link": true
    },
    "kernelspec": {
      "name": "python3",
      "display_name": "Python 3"
    },
    "language_info": {
      "name": "python"
    }
  },
  "cells": [
    {
      "cell_type": "markdown",
      "metadata": {
        "id": "view-in-github",
        "colab_type": "text"
      },
      "source": [
        "<a href=\"https://colab.research.google.com/github/Rohit530/python-lab/blob/main/R19_python_programming_19A21B0530_ROHIT.ipynb\" target=\"_parent\"><img src=\"https://colab.research.google.com/assets/colab-badge.svg\" alt=\"Open In Colab\"/></a>"
      ]
    },
    {
      "cell_type": "markdown",
      "metadata": {
        "id": "mvq-PfpfWqRa"
      },
      "source": [
        "K LAKSHMAN ROHIT \n",
        " \n",
        "19A21B0530\n",
        " \n",
        "CSE SHIFT"
      ]
    },
    {
      "cell_type": "code",
      "metadata": {
        "id": "uVHd5zR84lwc"
      },
      "source": [
        "10+20"
      ],
      "execution_count": null,
      "outputs": []
    },
    {
      "cell_type": "markdown",
      "metadata": {
        "id": "BgU7VFm3rYf1"
      },
      "source": [
        "30"
      ]
    },
    {
      "cell_type": "code",
      "metadata": {
        "id": "yXn_TmBV4ohE"
      },
      "source": [
        "a=10\n",
        "b=10"
      ],
      "execution_count": null,
      "outputs": []
    },
    {
      "cell_type": "code",
      "metadata": {
        "colab": {
          "base_uri": "https://localhost:8080/"
        },
        "id": "mJNjFKa-4vzf",
        "outputId": "103014b9-eccc-45fb-a11a-5dd75e9848e4"
      },
      "source": [
        "b"
      ],
      "execution_count": null,
      "outputs": [
        {
          "output_type": "execute_result",
          "data": {
            "text/plain": [
              "10"
            ]
          },
          "metadata": {},
          "execution_count": 4
        }
      ]
    },
    {
      "cell_type": "code",
      "metadata": {
        "id": "a8mnQa954z8M"
      },
      "source": [
        "type(a)"
      ],
      "execution_count": null,
      "outputs": []
    },
    {
      "cell_type": "markdown",
      "metadata": {
        "id": "vs3-huzUsVjJ"
      },
      "source": [
        "int a"
      ]
    },
    {
      "cell_type": "markdown",
      "metadata": {
        "id": "aQQVBpgB5EMY"
      },
      "source": [
        " \n",
        "b)write a program to purposefully raise indentation error and correct it.\n",
        " \n",
        "Error program:\n",
        " \n",
        "Aim: Write a program to purposefully raise indentation error and correct it."
      ]
    },
    {
      "cell_type": "markdown",
      "metadata": {
        "id": "xUcTJeP55Kwz"
      },
      "source": [
        " \n",
        "Indentation Error:\n",
        " \n",
        "The indentation error can occur when the spaces or tabs are not placed properly. There will not be an issue if the interpreter does not find any issues with the spaces or tabs. If there is an error due to indentation, it will come in between the execution and can be a show stopper."
      ]
    },
    {
      "cell_type": "code",
      "metadata": {
        "colab": {
          "base_uri": "https://localhost:8080/",
          "height": 148
        },
        "id": "SGtr4_EX5RFa",
        "outputId": "526b650f-a85f-46d7-b63c-02bb2c9e04b4"
      },
      "source": [
        " print(\"Welcome to python\")\n",
        "a=10\n",
        "b=20\n",
        "print(\"Value of a: \",a)\n",
        "   print(\"Value of b: \",b)\n",
        "if a>b:\n",
        "   print(\"a is big\")\n",
        "   print(\"a= \",a)\n",
        "else:\n",
        "  print(\"b is big\")\n",
        "     print(\"b=\",b)"
      ],
      "execution_count": null,
      "outputs": [
        {
          "output_type": "error",
          "ename": "IndentationError",
          "evalue": "ignored",
          "traceback": [
            "\u001b[0;36m  File \u001b[0;32m\"<ipython-input-6-e473def8dda8>\"\u001b[0;36m, line \u001b[0;32m5\u001b[0m\n\u001b[0;31m    print(\"Value of b: \",b)\u001b[0m\n\u001b[0m    ^\u001b[0m\n\u001b[0;31mIndentationError\u001b[0m\u001b[0;31m:\u001b[0m unexpected indent\n"
          ]
        }
      ]
    },
    {
      "cell_type": "code",
      "metadata": {
        "colab": {
          "base_uri": "https://localhost:8080/"
        },
        "id": "06M2EH2R5VAc",
        "outputId": "6048e675-92d6-41f8-a9fd-7313887191dc"
      },
      "source": [
        " print(\"welcome to python\")\n",
        "a=27\n",
        "b=87\n",
        "print(\"the value of a:\",a)\n",
        "print(\"the value of b :\",b)\n",
        "if(a>b):\n",
        "       print(\"a is big\");\n",
        "       print(\"ifbblock ends\")\n",
        "else:\n",
        "            print(\"b is big\")\n",
        "            print(\"elseblock ends\")"
      ],
      "execution_count": null,
      "outputs": [
        {
          "output_type": "stream",
          "name": "stdout",
          "text": [
            "welcome to python\n",
            "the value of a: 27\n",
            "the value of b : 87\n",
            "b is big\n",
            "elseblock ends\n"
          ]
        }
      ]
    },
    {
      "cell_type": "markdown",
      "metadata": {
        "id": "mgRAo-eU54zN"
      },
      "source": [
        " \n",
        "Exercise 2:Operations\n",
        " \n",
        "a) Write a program to compute distance between two points taking input from the user(pythagorean theorem)"
      ]
    },
    {
      "cell_type": "markdown",
      "metadata": {
        "id": "QWc36lYL6BxO"
      },
      "source": [
        " \n",
        "AIM\n",
        " \n",
        " \n",
        "Program to compute distance between two points taking input from the user(pythagorean theorem)\n",
        "DESCRIPTION: Taking Input From the User: A function is defined as a block of organized, reusable code used to perform a single, related action. Python has many built-in functions; you can also create your own. Python has an input function which lets you ask a user for some text input. You call this function to tell the program to stop and wait for the user to key in the data. In Python 2, you have a built-in function raw_input(), whereas in Python 3, you have input(). The program will resume once the user presses the ENTER or RETURN key.\n",
        " \n",
        " \n",
        "Input Function input(prompt=None,/). Read a string from standard input. The trailing newline is stripped. The prompt string, if given, is printed to standard output without a trailing newline before reading input. If the user hits EOF (*nix: Ctrl-D, Windows: Ctrl Z+Return), raise EOFError.\n",
        "[ ]"
      ]
    },
    {
      "cell_type": "code",
      "metadata": {
        "colab": {
          "base_uri": "https://localhost:8080/"
        },
        "id": "bB49F1706qS8",
        "outputId": "7bd8e4e4-f020-448b-cf1a-cb17c8c247ce"
      },
      "source": [
        "4\n",
        "50\n",
        "import math\n",
        "x1=int(input(\"enter  x1 value:\"))\n",
        "x2=int(input(\"enter  x2 value:\"))\n",
        "y1=int(input(\"enter  y1 value:\"))\n",
        "y2=int(input(\"enter  y2 value:\"))\n",
        "z=math.sqrt((x2-x1)**2+(y2-y1)**2)\n",
        "print(\"the distance between two points is :\",z)\n",
        "print(\"the distance between two points is :\",z,sep='\\t')\n",
        "print(\"the distance between ({}, {})and ({},{}) is  :{}\".format(x1,y1,x2,y2,z))\n",
        " \n",
        "print(\"the distance between (%d, %d)and (%d,%d) is  :%f\"%(x1,y1,x2,y2,z))"
      ],
      "execution_count": null,
      "outputs": [
        {
          "output_type": "stream",
          "name": "stdout",
          "text": [
            "enter  x1 value:2\n",
            "enter  x2 value:4\n",
            "enter  y1 value:6\n",
            "enter  y2 value:8\n",
            "the distance between two points is : 2.8284271247461903\n",
            "the distance between two points is :\t2.8284271247461903\n",
            "the distance between (2, 6)and (4,8) is  :2.8284271247461903\n",
            "the distance between (2, 6)and (4,8) is  :2.828427\n"
          ]
        }
      ]
    },
    {
      "cell_type": "markdown",
      "metadata": {
        "id": "C3mMbXMf6z90"
      },
      "source": [
        " \n",
        "b)write a program add.py that takes 2 numbers as command line arguments and print its sum.\n",
        " \n",
        "Aim:Write a program add.py that takes 2 numbers as command line arguments and print its sum\n",
        " \n",
        "Command line arguements:\n",
        " \n",
        " \n",
        "The arguments that are given after the name of the program in the command line shell of the operating system are known as Command Line Arguments. Python provides various ways of dealing with these types of arguments"
      ]
    },
    {
      "cell_type": "markdown",
      "metadata": {
        "id": "S2foo4xw7Cic"
      },
      "source": [
        " \n",
        "Description\n",
        " \n",
        " \n",
        "arguments that are given after the name of the program in the command line shell of the operating system are known as Command Line Arguments. Python provides various ways of dealing with these types of arguments. The three most common are: Using sys.argv Using getopt module Using argparse module Using sys.argv\n",
        "The sys module provides functions and variables used to manipulate different parts of the Python runtime environment.\n",
        " \n",
        " \n",
        "This module provides access to some variables used or maintained by the interpreter and to functions that interact strongly with the interpreter.\n",
        " \n",
        " \n",
        "One such variable is sys.argv which is a simple list structure. It’s main purpose are:\n",
        " \n",
        " \n",
        "It is a list of command line arguments. len(sys.argv) provides the number of command line arguments."
      ]
    },
    {
      "cell_type": "code",
      "metadata": {
        "colab": {
          "base_uri": "https://localhost:8080/",
          "height": 302
        },
        "id": "LYMM4A207QqV",
        "outputId": "813e7d9c-0690-466b-a08b-01a92dc6b4a3"
      },
      "source": [
        " import sys\n",
        "a=sys.argv[1]\n",
        "b=sys.argv[2]\n",
        "sum=int(a)+int(b)\n",
        "print(\"summ of two number is:\",sum)"
      ],
      "execution_count": null,
      "outputs": [
        {
          "output_type": "error",
          "ename": "ValueError",
          "evalue": "ignored",
          "traceback": [
            "\u001b[0;31m---------------------------------------------------------------------------\u001b[0m",
            "\u001b[0;31mValueError\u001b[0m                                Traceback (most recent call last)",
            "\u001b[0;32m<ipython-input-14-423241341cab>\u001b[0m in \u001b[0;36m<module>\u001b[0;34m()\u001b[0m\n\u001b[1;32m      2\u001b[0m \u001b[0ma\u001b[0m\u001b[0;34m=\u001b[0m\u001b[0msys\u001b[0m\u001b[0;34m.\u001b[0m\u001b[0margv\u001b[0m\u001b[0;34m[\u001b[0m\u001b[0;36m1\u001b[0m\u001b[0;34m]\u001b[0m\u001b[0;34m\u001b[0m\u001b[0;34m\u001b[0m\u001b[0m\n\u001b[1;32m      3\u001b[0m \u001b[0mb\u001b[0m\u001b[0;34m=\u001b[0m\u001b[0msys\u001b[0m\u001b[0;34m.\u001b[0m\u001b[0margv\u001b[0m\u001b[0;34m[\u001b[0m\u001b[0;36m2\u001b[0m\u001b[0;34m]\u001b[0m\u001b[0;34m\u001b[0m\u001b[0;34m\u001b[0m\u001b[0m\n\u001b[0;32m----> 4\u001b[0;31m \u001b[0msum\u001b[0m\u001b[0;34m=\u001b[0m\u001b[0mint\u001b[0m\u001b[0;34m(\u001b[0m\u001b[0ma\u001b[0m\u001b[0;34m)\u001b[0m\u001b[0;34m+\u001b[0m\u001b[0mint\u001b[0m\u001b[0;34m(\u001b[0m\u001b[0mb\u001b[0m\u001b[0;34m)\u001b[0m\u001b[0;34m\u001b[0m\u001b[0;34m\u001b[0m\u001b[0m\n\u001b[0m\u001b[1;32m      5\u001b[0m \u001b[0mprint\u001b[0m\u001b[0;34m(\u001b[0m\u001b[0;34m\"summ of two number is:\"\u001b[0m\u001b[0;34m,\u001b[0m\u001b[0msum\u001b[0m\u001b[0;34m)\u001b[0m\u001b[0;34m\u001b[0m\u001b[0;34m\u001b[0m\u001b[0m\n",
            "\u001b[0;31mValueError\u001b[0m: invalid literal for int() with base 10: '-f'"
          ]
        }
      ]
    },
    {
      "cell_type": "markdown",
      "metadata": {
        "id": "JejzmueH7hvu"
      },
      "source": [
        " \n",
        "Exercise 3:Control Flow\n",
        " \n",
        "a)Write a program for checking whether the given number is an even number or not.\n",
        "AIM:\n",
        " \n",
        "Program for checking whether the given number is an even number or not.\n",
        " \n",
        " DESCRIPTION:\n",
        " \n",
        "if..else Statement When there is an alternate operation in control flow, use an else statement alongside with if statement. The general format is\n",
        "if condition:\n",
        "true statement\n",
        "else:\n",
        "false statement."
      ]
    },
    {
      "cell_type": "code",
      "metadata": {
        "colab": {
          "base_uri": "https://localhost:8080/"
        },
        "id": "FL6JfdUq7t78",
        "outputId": "6e7ecd10-89e3-465e-94f0-9efc19676872"
      },
      "source": [
        " n=int(input(\"enter a number:\"))\n",
        "if (n%2)==0:\n",
        "        print(\"given number is even\")\n",
        "else:\n",
        "      print(\"given number is odd\")"
      ],
      "execution_count": null,
      "outputs": [
        {
          "output_type": "stream",
          "name": "stdout",
          "text": [
            "enter a number:32\n",
            "given number is even\n"
          ]
        }
      ]
    },
    {
      "cell_type": "markdown",
      "metadata": {
        "id": "lh9kiLgD75KH"
      },
      "source": [
        " b)Using a for loop,write a program that prints out the decimal equivalents of 1/2, 1/3, 1/4......1/10"
      ]
    },
    {
      "cell_type": "markdown",
      "metadata": {
        "id": "nVxBJWIw78sF"
      },
      "source": [
        " Aim:\n",
        " \n",
        "Using a for loop,write a program that prints out the decimal equivalents of 1/2, 1/3, 1/4......1/10 \n",
        "DESCRIPTION\n",
        " \n",
        "For Loop:\n",
        " \n",
        "For loops can iterate over a sequence of numbers using the \"range\" and \"xrange\" functions.\n",
        " \n",
        "The difference between range and xrange is that the range function returns a new list with numbers of that specified range, whereas xrange returns an iterator, which is more eficient.\n",
        " \n",
        "The general format is\n",
        " \n",
        "for x in range(start,stop,step):\n",
        " \n",
        "statements\n",
        " \n",
        "Program"
      ]
    },
    {
      "cell_type": "code",
      "metadata": {
        "colab": {
          "base_uri": "https://localhost:8080/"
        },
        "id": "39UUqOuu8M_9",
        "outputId": "35645038-d84c-4849-a2a7-0d5b90d750d3"
      },
      "source": [
        " n=int(input(\"enter a number:\"))\n",
        "for i in range(2,n):\n",
        "    de=1/i;\n",
        "    print(\"1/\"+str(i)+\"=\",de)"
      ],
      "execution_count": null,
      "outputs": [
        {
          "output_type": "stream",
          "name": "stdout",
          "text": [
            "enter a number:10\n",
            "1/2= 0.5\n",
            "1/3= 0.3333333333333333\n",
            "1/4= 0.25\n",
            "1/5= 0.2\n",
            "1/6= 0.16666666666666666\n",
            "1/7= 0.14285714285714285\n",
            "1/8= 0.125\n",
            "1/9= 0.1111111111111111\n"
          ]
        }
      ]
    },
    {
      "cell_type": "markdown",
      "metadata": {
        "id": "lqtaaIqU8WSp"
      },
      "source": [
        "c)Write a program using a for loop over a sequence. what is sequence?"
      ]
    },
    {
      "cell_type": "markdown",
      "metadata": {
        "id": "PJVyxwQy8Yuk"
      },
      "source": [
        " Aim:\n",
        " \n",
        " \n",
        "Program using a for loop over a sequence. what is sequence\n",
        " \n",
        " DESCRIPTION:\n",
        " \n",
        "For Loop:\n",
        " \n",
        "For loops can iterate over a sequence of numbers using the \"range\" and \"xrange\" functions.\n",
        " \n",
        "The difference between range and xrange is that the range function returns a new list with numbers of that specified range, whereas xrange returns an iterator, which is more eficient.\n",
        " \n",
        "The general format is\n",
        " \n",
        "for x in range(start,stop,step):\n",
        "statements"
      ]
    },
    {
      "cell_type": "code",
      "metadata": {
        "colab": {
          "base_uri": "https://localhost:8080/"
        },
        "id": "O_VKIaha8tUD",
        "outputId": "17d4d2bf-bc0c-4fda-88a1-3d087fef4ed6"
      },
      "source": [
        " #program using a for a loop that loops over a sequence\n",
        "print(\"loop sequence\")\n",
        "num=[32,49,8,45,6,32]\n",
        "for i in num:\n",
        "    print(i)\n",
        " \n",
        "#string sequence\n",
        "print(\"string sequence\")\n",
        "days=[\"sun\",\"mon\",\"tue\",\"wed\",\"thur\",\"fri\",\"st\"]\n",
        "for d in days:\n",
        "    print(d)\n",
        "    \n",
        "#bothh sequence\n",
        "print(\"sequence\")\n",
        "arr=[123,\"abc\",5.6,'h',-33,\"xy\",True]\n",
        "for x in arr:\n",
        "      print(x)"
      ],
      "execution_count": null,
      "outputs": [
        {
          "output_type": "stream",
          "name": "stdout",
          "text": [
            "loop sequence\n",
            "32\n",
            "49\n",
            "8\n",
            "45\n",
            "6\n",
            "32\n",
            "string sequence\n",
            "sun\n",
            "mon\n",
            "tue\n",
            "wed\n",
            "thur\n",
            "fri\n",
            "st\n",
            "sequence\n",
            "123\n",
            "abc\n",
            "5.6\n",
            "h\n",
            "-33\n",
            "xy\n",
            "True\n"
          ]
        }
      ]
    },
    {
      "cell_type": "markdown",
      "metadata": {
        "id": "abqlPfrs81Kz"
      },
      "source": [
        "d)Write a program using a while loop that asks the user for a number and prints a countdown that number to zero"
      ]
    },
    {
      "cell_type": "markdown",
      "metadata": {
        "id": "Z1mCRv8k83NR"
      },
      "source": [
        " Aim:\n",
        " \n",
        "program using a while loop that asks the user for a number and print a coount down that number to user.\n",
        " \n",
        "DESCRIPTION:\n",
        " \n",
        "While Loop is used to execute a block of statements repeatedly until a given condition is satisfied.\n",
        " \n",
        "And when the condition becomes false, the line immediately after the loop in the program is executed.\n",
        " \n",
        "While loop falls under the category of indefinite iteration\n",
        " \n",
        "The syntax for a while loop is:\n",
        " \n",
        "while [ condition]"
      ]
    },
    {
      "cell_type": "code",
      "metadata": {
        "colab": {
          "base_uri": "https://localhost:8080/"
        },
        "id": "OwL9_eSK9GGC",
        "outputId": "c13cee70-5af8-4323-d3aa-3aa43f81a53a"
      },
      "source": [
        " #countdown seq\n",
        "n=int(input(\"enter the number:\"))\n",
        "while n>0:\n",
        "      print(n)\n",
        "      n=n-1"
      ],
      "execution_count": null,
      "outputs": [
        {
          "output_type": "stream",
          "name": "stdout",
          "text": [
            "enter the number:5\n",
            "5\n",
            "4\n",
            "3\n",
            "2\n",
            "1\n"
          ]
        }
      ]
    },
    {
      "cell_type": "markdown",
      "metadata": {
        "id": "C64EV6jJ9MAE"
      },
      "source": [
        " EXCERCISE-4: Control Flow\n",
        " \n",
        "a) Find the sum of all the primes below two million. Each new term in the Fibonacci sequence is generated by adding the previous two terms. Bystarting with 1 and 2, the first 10 terms will be: 1, 2, 3, 5, 8, 13, 21, 34, 55, 89,"
      ]
    },
    {
      "cell_type": "markdown",
      "metadata": {
        "id": "qu5iIXIp9VH_"
      },
      "source": [
        " \n",
        "Aim:\n",
        " \n",
        "Find the sum of all the primes below two million. Each new term in the Fibonacci sequence is generated by adding the previous two terms. Bystarting with 1 and 2, the first 10 terms will be: 1, 2, 3, 5, 8, 13, 21, 34, 55, 89, ...\n",
        " \n",
        "DESCRIPTION:\n",
        " \n",
        "A Fibonacci sequence is the integer sequence of 0, 1, 1, 2, 3, 5, 8.... The first two terms are 0 and\n",
        " \n",
        " \n",
        "All other terms are obtained by adding the preceding two terms.\n",
        "This means to say the nth term is the sum of (n-1)th and (n-2)th term Here, we store the number of terms in nterms. We initialize the first term to 0 and the second term to 1.\n",
        " \n",
        "If the number of terms is more than 2, we use a while loop to find the next term in the sequence by adding the preceding two terms. We then interchange the variables (update it) and continue on with the process."
      ]
    },
    {
      "cell_type": "code",
      "metadata": {
        "colab": {
          "base_uri": "https://localhost:8080/"
        },
        "id": "Wwkt9vi09tTL",
        "outputId": "d1117d61-10f8-4b73-dc6f-56118f507d33"
      },
      "source": [
        " n=int(input(\"Enter an ending number: \"))\n",
        "c=0\n",
        "st=\" \"\n",
        "sum=0\n",
        "for i in range(2,n):\n",
        "  state=True\n",
        "  for j in range(2,i):\n",
        "    if(i%j)==0:\n",
        "      state=False\n",
        "      break;\n",
        "  if state==True:\n",
        "      st=\" \"+str(i)\n",
        "      c+=1\n",
        "      sum+=i\n",
        "print(\"Prime numbers: \")\n",
        "print(st)\n",
        "print(\"Total count of prime numbers is: \",c)\n",
        "print(\"Sum of prime numbers is: \",sum)"
      ],
      "execution_count": null,
      "outputs": [
        {
          "output_type": "stream",
          "name": "stdout",
          "text": [
            "Enter an ending number: 10\n",
            "Prime numbers: \n",
            " 7\n",
            "Total count of prime numbers is:  4\n",
            "Sum of prime numbers is:  17\n"
          ]
        }
      ]
    },
    {
      "cell_type": "markdown",
      "metadata": {
        "id": "CYZGjCm290gn"
      },
      "source": [
        " b) Each new term in the fibonacci sequence is generated by adding the previous two terms.By starting with 1 and 2 the first 10 terms will be:1,2,3,5,8,13,21,34,55,89....\n",
        " \n",
        "Aim:\n",
        " \n",
        "Each new term in the fibonacci sequence is generated by adding the previous two terms.By starting with 1 and 2 the first 10 terms will be:1,2,3,5,8,13,21,34,55,89....\n",
        "DESCRIPTION:\n",
        " \n",
        "A Fibonacci sequence is the integer sequence of 0, 1, 1, 2, 3, 5, 8.... The first two terms are 0 and\n",
        "All other terms are obtained by adding the preceding two terms. This means to say the nth term is the sum of (n-1)th and (n-2)th term Here, we store the number of terms in nterms.We initialize the first term to 0 and the second term to 1. If the number of terms is more than 2, we use a while loop to find the next term in the sequence by adding the preceding two termsWe then interchange the variables (update it) and continue on with the process."
      ]
    },
    {
      "cell_type": "code",
      "metadata": {
        "colab": {
          "base_uri": "https://localhost:8080/"
        },
        "id": "4mgQr71J-Lzd",
        "outputId": "7af90674-ec25-4c09-ca4e-839b91a94d8b"
      },
      "source": [
        " n=int(input(\"enter value of n: \"))\n",
        "a=0\n",
        "b=1\n",
        "c=a+b\n",
        "while c<n:\n",
        "  print(c,end=' ')\n",
        "  a=b\n",
        "  a=c\n",
        "  c=a+b"
      ],
      "execution_count": null,
      "outputs": [
        {
          "output_type": "stream",
          "name": "stdout",
          "text": [
            "enter value of n: 5\n",
            "1 2 3 4 "
          ]
        }
      ]
    },
    {
      "cell_type": "markdown",
      "metadata": {
        "id": "yEtTPdmV-ltl"
      },
      "source": [
        "EXCERCISE-5:DS\n",
        "a) Write a program to count the numbers of characters in the string and store them in a dictionary type data structure"
      ]
    },
    {
      "cell_type": "markdown",
      "metadata": {
        "id": "2CWLssZE-uem"
      },
      "source": [
        " \n",
        "Aim:\n",
        "program to count the number of characters in a string and store them in a dictionary type data structure.\n",
        " \n",
        "DESCRIPTION:\n",
        " \n",
        "Given a string, the task is to find the frequencies of all the characters in that string and return a dictionary with key as the character and its value as its frequency in the given string.\n",
        " \n",
        " \n",
        "Method #1 : Naive method\n",
        " \n",
        " \n",
        "Simply iterate through the string and form a key in dictionary of newly occurred element or if element is already occurred, increase its value by 1.\n",
        " \n",
        " \n",
        "Method #2 : Using collections.Counter()\n",
        " \n",
        " \n",
        "The most suggested method that could be used to find all occurrences is this method, this actually gets all element frequency and could also be used to print single element frequency if required"
      ]
    },
    {
      "cell_type": "code",
      "metadata": {
        "colab": {
          "base_uri": "https://localhost:8080/"
        },
        "id": "StLyKXGY-9Yc",
        "outputId": "ba11ec01-a2dd-4c32-c440-28756c55bb63"
      },
      "source": [
        " name=input(\"enter a name:\")\n",
        "dic={}\n",
        "for ch in name:\n",
        "    keys=dic.keys()\n",
        " \n",
        "    if(ch in keys):\n",
        "        dic[ch]=dic[ch]+1\n",
        "    else:\n",
        "        dic[ch]=1\n",
        " \n",
        "print(\"dictinarry is:\",dic)"
      ],
      "execution_count": null,
      "outputs": [
        {
          "output_type": "stream",
          "name": "stdout",
          "text": [
            "enter a name:Rohit\n",
            "dictinarry is: {'R': 1, 'o': 1, 'h': 1, 'i': 1, 't': 1}\n"
          ]
        }
      ]
    },
    {
      "cell_type": "markdown",
      "metadata": {
        "id": "E-k1ei8__DID"
      },
      "source": [
        "b)Write a program to use split and join methods in the string and trace a birthday with a dictionary data structure."
      ]
    },
    {
      "cell_type": "markdown",
      "metadata": {
        "id": "LLGx9y9y_GQ8"
      },
      "source": [
        " \n",
        "Aim:\n",
        "program to use split and join methods in the string and trace a birthday with a dictionary data structure\n",
        " \n",
        "DESCRIPTION:\n",
        " \n",
        "Python program to Split a string based on a delimiter and join the string using another delimiter.\n",
        " \n",
        " \n",
        "Split a string can be quite useful sometimes, especially when you need only certain parts of strings. A simple yet effective example is splitting the First-name and Last-name of a person. Another application is CSV(Comma Separated Files). We use split to get data from CSV and join to write data to CSV.\n",
        " \n",
        " \n",
        "In Python, we can use the function split() to split a string and\n",
        " \n",
        " \n",
        "join() to join a string."
      ]
    },
    {
      "cell_type": "code",
      "metadata": {
        "colab": {
          "base_uri": "https://localhost:8080/"
        },
        "id": "0Z4kgSgs_Pw8",
        "outputId": "6bdf9ca7-3531-4e14-c4ae-a7e04566792a"
      },
      "source": [
        " dob={\"Rohit\":\"09-09-2001\",\"teja\":\"01-05-2005\"}\n",
        "name=input(\"Which person DOB do you want: \")\n",
        "l=name.split()\n",
        "birth=\" \"\n",
        "for i in l:\n",
        "    if i in dob.keys():\n",
        "        pers=i\n",
        "print(\" \".join([pers,\"Birthday is\",dob[pers]]))"
      ],
      "execution_count": null,
      "outputs": [
        {
          "output_type": "stream",
          "name": "stdout",
          "text": [
            "Which person DOB do you want: Rohit\n",
            "Rohit Birthday is 09-09-2001\n"
          ]
        }
      ]
    },
    {
      "cell_type": "markdown",
      "metadata": {
        "id": "ldVN4-c__Y5x"
      },
      "source": [
        " EXERCISE-6: DS-CONTINUED\n",
        " \n",
        " \n",
        "a) Write a program combinelists that combines these lists into a dictionary\n",
        " \n",
        " \n",
        "Aim:\n",
        " \n",
        " \n",
        "Write a program combine lists that combines these lists into a dictionary. DESCRIPTION:\n",
        "For this, simply declare a dictionary, and then run nested loop for both the lists and assign key and value pairs to from list values to dictionary.\n",
        " \n",
        " \n",
        "Most pythonic and generic method to perform this very task is by using zip(). This function pairs the list element with other list element at corresponding index in form of key-value pairs."
      ]
    },
    {
      "cell_type": "code",
      "metadata": {
        "colab": {
          "base_uri": "https://localhost:8080/"
        },
        "id": "IRonqtWP_hUO",
        "outputId": "79c129cf-6b07-4da0-9805-3e2ddd8ecc30"
      },
      "source": [
        " sub=[\"daa\",\"os\",\"dbms\",\"p&s\",\"ppl\",\"se\"]\n",
        "marks=[89,76,85,95,89,92]\n",
        "print(sub)\n",
        "print(marks)\n",
        "dic=dict(zip(sub,marks))\n",
        "print(dic)"
      ],
      "execution_count": null,
      "outputs": [
        {
          "output_type": "stream",
          "name": "stdout",
          "text": [
            "['daa', 'os', 'dbms', 'p&s', 'ppl', 'se']\n",
            "[89, 76, 85, 95, 89, 92]\n",
            "{'daa': 89, 'os': 76, 'dbms': 85, 'p&s': 95, 'ppl': 89, 'se': 92}\n"
          ]
        }
      ]
    },
    {
      "cell_type": "markdown",
      "metadata": {
        "id": "xfEgXcp8_mJu"
      },
      "source": [
        "b)Write a program to count frequency of characters in a given file.Can you use character frequency to tell whether the given file is python program file, C program file or a text file.\n",
        " \n",
        "Aim:\n",
        " \n",
        " \n",
        "Write a program to count frequency of characters in a given file.Can you use character frequency to tell whether the given file is python program file, C program file or a text file.\n",
        " \n",
        " \n",
        "DESCRIPTION:\n",
        " \n",
        " \n",
        "approaches to count the number of times a letter appears in a text file in Python.\n",
        " \n",
        " \n",
        "Method 1: Using the in-built count() method.\n",
        " \n",
        " \n",
        "Approach:\n",
        " \n",
        "Read the file.\n",
        " \n",
        "Store the content of the file in a variable.\n",
        " \n",
        "Use the count() method with the argument as a \n",
        "letter whose frequency is required.\n",
        " \n",
        "Display the count of the letter."
      ]
    },
    {
      "cell_type": "code",
      "metadata": {
        "colab": {
          "base_uri": "https://localhost:8080/"
        },
        "id": "HJZ6bXob_0sj",
        "outputId": "888d9e9b-6f0e-41db-a5e6-b6d8778ebe50"
      },
      "source": [
        " f=open(\"abc.txt\",\"w\")\n",
        "f.write(\"Welcome to python programming\")\n",
        "f.close()\n",
        " \n",
        " \n",
        "filetypes=['.py','.c','.txt']\n",
        "fn=input(\"Enter file name\")\n",
        "f=open(fn,\"r\")\n",
        "count=dict()\n",
        "for ft in filetypes:\n",
        "    if(ft in fn):\n",
        "      if(ft=='.py'):\n",
        "        print(\"Python file\")\n",
        "      elif(ft=='.c'):\n",
        "        print(\"C file\")\n",
        "      elif(ft=='.txt'):\n",
        "        print(\"Text file\")\n",
        "for line in f:\n",
        "     for ch in line:\n",
        "        if ch in count:\n",
        "           count[ch]=count[ch]+1\n",
        "        else:\n",
        "           count[ch]=1\n",
        "print(count)\n",
        "f.close()"
      ],
      "execution_count": null,
      "outputs": [
        {
          "output_type": "stream",
          "name": "stdout",
          "text": [
            "Enter file nameabc.txt\n",
            "Text file\n",
            "{'W': 1, 'e': 2, 'l': 1, 'c': 1, 'o': 4, 'm': 3, ' ': 3, 't': 2, 'p': 2, 'y': 1, 'h': 1, 'n': 2, 'r': 2, 'g': 2, 'a': 1, 'i': 1}\n"
          ]
        }
      ]
    },
    {
      "cell_type": "markdown",
      "metadata": {
        "id": "wVtiZijuALqq"
      },
      "source": [
        " EXCERCISE-7:files\n",
        "a) Write a program to print each line of a file in reverse order."
      ]
    },
    {
      "cell_type": "markdown",
      "metadata": {
        "id": "znp0qXhOAHSv"
      },
      "source": [
        " Aim:\n",
        " \n",
        " \n",
        "Write a program to print each line of a file in reverse order.\n",
        "DESCRIPTION:\n",
        " \n",
        " \n",
        "The file handling plays an important role when the data needs to be stored permanently into the file. A file is a named location on disk to store related information. We can access the stored information (non-volatile) after the program termination. In Python, files are treated in two modes as text or binary. The file may be in the text or binary format, and each line of a file is ended with the special character. Hence, a file operation can be done in the following order.\n",
        " \n",
        "Open a file\n",
        " \n",
        " Read or write - Performing operation\n",
        " \n",
        " Close the file"
      ]
    },
    {
      "cell_type": "code",
      "metadata": {
        "colab": {
          "base_uri": "https://localhost:8080/"
        },
        "id": "7xDy9mU7AYxI",
        "outputId": "926cf354-fba9-43e5-9c88-915540d4b299"
      },
      "source": [
        " f=open(\"abc.txt\",\"w\")\n",
        "f.write(\"Welcome to python programming\")\n",
        "f.close()\n",
        " \n",
        "obj=open(\"abc.txt\",\"r\")\n",
        "if obj:\n",
        "    st=obj.read()\n",
        "    print(\"File content is: \\n\",st)\n",
        "obj.close()\n",
        "print()\n",
        "lines=st.split('\\n')\n",
        " \n",
        "for ln in lines:\n",
        "    i=len(ln)-1\n",
        "    while(i>=0):\n",
        "        print(ln[i],end='')\n",
        "        i=i-1\n",
        "    print()"
      ],
      "execution_count": null,
      "outputs": [
        {
          "output_type": "stream",
          "name": "stdout",
          "text": [
            "File content is: \n",
            " Welcome to python programming\n",
            "\n",
            "gnimmargorp nohtyp ot emocleW\n"
          ]
        }
      ]
    },
    {
      "cell_type": "markdown",
      "metadata": {
        "id": "13zxJsE-AfbD"
      },
      "source": [
        "7b)Write a program to compute the number of characters,words and lines in a file.\n",
        " \n",
        "Aim:\n",
        " \n",
        "Write a program to compute the number of characters,words and lines in a file.\n",
        "DESCRIPTION:\n",
        " \n",
        "Given a text file fname, the task is to count the total number of characters, words, spaces and lines in the file.\n",
        " \n",
        "As we know, Python provides multiple in-built features and modules for handling files. Let’s discuss different ways to calculate total number of characters, words, spaces and lines in a file using Python.\n",
        " \n",
        "Method #1: Naive approach\n",
        " \n",
        "In this approach, the idea is to solve the task by developing our own logic. Without using any built-in function of Python, the total number of characters, words, spaces and lines of the file will be calculated.\n",
        " \n",
        "Method #2: Using some built-in functions and OS module functions\n",
        " \n",
        "In this approach, the idea is to use the os.linesep() method of OS module to separate the lines on the current platform. When the interpreter’s scanner encounter os.linesep it replaces it with \\n character. After that strip() and split() functions will be used to carry out the task."
      ]
    },
    {
      "cell_type": "code",
      "metadata": {
        "colab": {
          "base_uri": "https://localhost:8080/"
        },
        "id": "Dzz-txmxAy8s",
        "outputId": "a25c9ed4-ddb4-40f0-92e9-7f705d890c0a"
      },
      "source": [
        " f=open(\"abc.txt\",\"w\")\n",
        "lst=[\"Welcome\",\" to\",\" python\",\" programming\",\"\\n\",\"Swarnandhra \",\"college\",\"of\",\"and\",\"engineering \",\"technology\"]\n",
        "f.writelines(lst)\n",
        "f.close()\n",
        " \n",
        " \n",
        "nl=nc=nw=0\n",
        "obj=open(\"abc.txt\",\"r\")\n",
        "lines=obj.readlines()\n",
        " \n",
        "for ln in lines:\n",
        "    nl+=1                #count lines\n",
        "    words=ln.split()      #split words\n",
        "    nw+=len(words)       #count words\n",
        "    nc+=len(ln)           #count characters\n",
        "obj.close()\n",
        "print(\"Number of lines: \",nl)\n",
        "print(\"Number of words: \",nw)\n",
        "print(\"Number of characters: \",nc)"
      ],
      "execution_count": null,
      "outputs": [
        {
          "output_type": "stream",
          "name": "stdout",
          "text": [
            "Number of lines:  2\n",
            "Number of words:  7\n",
            "Number of characters:  76\n"
          ]
        }
      ]
    },
    {
      "cell_type": "markdown",
      "metadata": {
        "id": "v088ChfxA45X"
      },
      "source": [
        " \n",
        "Exercise 8:Functions\n",
        " \n",
        "a)Write a function ball collide that takes two balls as parameters and computes if they are colliding. Your function should return a Boolean representing whether or not the balls are colliding.\n",
        " \n",
        "Hint:Represent a ball on a plane as a tuple of(x,y,r),r being the radius.\n",
        " \n",
        "If (distance between two balls centers) <= (sum of their radii) then (they are colliding)\n",
        " \n",
        "Aim:\n",
        " \n",
        "Write a function ball collide that takes two balls as parameters and computes if they are colliding. Your function should return a Boolean representing whether or not the balls are colliding.\n",
        " \n",
        "DESCRIPTION:\n",
        " \n",
        "Functions A function in python is a block of code that is defined for doing frequent operations in a particular task. The general format is\n",
        " \n",
        "def Functionname(arguments):\n",
        " \n",
        "Statements Calling a Function:\n",
        " \n",
        "A function can be called by its name followed by arguments within parenthesis."
      ]
    },
    {
      "cell_type": "code",
      "metadata": {
        "colab": {
          "base_uri": "https://localhost:8080/"
        },
        "id": "AZiOdr05BHN6",
        "outputId": "5b52ff62-f842-48db-b62b-0eb294cabc64"
      },
      "source": [
        " import math\n",
        "def ballcollide(b1tup,b2tup):\n",
        "    x1=b1tup[0]\n",
        "    y1=b1tup[1]\n",
        "    x2=b2tup[0]\n",
        "    y2=b2tup[1]\n",
        "    r1=b1tup[2]\n",
        "    r2=b2tup[2]\n",
        " \n",
        " \n",
        "    d=math.sqrt((x2-x1)**2+(y2-y1)**2)\n",
        "    if(d<=r1+r2):\n",
        "      return True\n",
        "    else:\n",
        "        return False\n",
        " \n",
        " \n",
        "ball1=(1,2,3)\n",
        "ball2=(3,2,1)\n",
        "c=ballcollide(ball1,ball2)\n",
        "if(c):\n",
        "    print(\"balls are collided\")\n",
        "else:\n",
        "    print(\"ball are not collided\")"
      ],
      "execution_count": null,
      "outputs": [
        {
          "output_type": "stream",
          "name": "stdout",
          "text": [
            "balls are collided\n"
          ]
        }
      ]
    },
    {
      "cell_type": "markdown",
      "metadata": {
        "id": "OKivP0A6BOvD"
      },
      "source": [
        "b)Find mean,median,mode for the given set of numbers in a list."
      ]
    },
    {
      "cell_type": "markdown",
      "metadata": {
        "id": "oL1PLfL1Bk4P"
      },
      "source": [
        " \n",
        "Aim:\n",
        " \n",
        "Findmean,median,mode for the given set of numbers in a list.\n",
        " \n",
        "DESCRIPTION\n",
        " \n",
        "Mean : The mean is the average of all numbers and is sometimes called the arithmetic mean. This code calculates Mean or Average of a list containing numbers:\n",
        " \n",
        "Median : The median is the middle number in a group of numbers. This code calculates Median of a list containing numbers:\n",
        "Mode : The mode is the number that occurs most often within a set of numbers. This code calculates Mode of a list containing numbers:\n",
        "We will import Counter from collections library which is a built-in module in Python 2 and 3. This module will help us count duplicate elements in a list. We define a list of numbers and calculate the length of the list. We then call Counter (a dict subclass) which helps to count hashable objects, and we then convert it to dict object. We then initialize a list with a For Loop to compare all the dict values (Number of elements) to the max of all dict values (count of most occurring element) and it returns all the elements equal to max count. If the elements returned are equal to the number of total elements in a list then we print out ‘No mode’, else we print out the modes returned"
      ]
    },
    {
      "cell_type": "code",
      "metadata": {
        "id": "_TiQT7zEBxNB"
      },
      "source": [
        " def list_mean(num_list):\n",
        "  return sum(num_list)/len(num_list)\n",
        "def list_median(num_list):\n",
        "  num_list.sort()\n",
        "  n=len(num_list) \n",
        "  mid=n/2\n",
        "  if(n%2==1):\n",
        "     return num_list[mid]\n",
        "  else:\n",
        "    mid\n",
        "    return(num_list[mid-1]+num_list[mid])/2\n",
        "def list_mode(num_list):\n",
        "  num_list.sort()\n",
        "  temp=[]\n",
        "  i=0\n",
        "  while i<len(num_list):\n",
        "      temp.append(num_list.count(num_list[i]))\n",
        "      i+=1\n",
        "  dic=dict(zip(num_list,temp))\n",
        "  mode={k for(k,v)in dic.items()if v==max(temp)}\n",
        "  return mode\n",
        "lst=[1,1,2,2,2,3,4,5,3]\n",
        "print(\"Given list is; \",lst) \n",
        "print(\"Mean of the given list: \",list_mean(lst))\n",
        "print(\"Median of the given list: \",list_median(lst))\n",
        "print(\"Mode of the given list: \",list_mode(lst))"
      ],
      "execution_count": null,
      "outputs": []
    },
    {
      "cell_type": "markdown",
      "metadata": {
        "id": "YBnKqiIgB4Yd"
      },
      "source": [
        " \n",
        "Exercise - 9\n",
        "Functions - Continued\n",
        "a) Write a function nearly equal to test whether two strings are nearly equal. Two strings a and bare nearly equal when a can be generated by a single mutation on b."
      ]
    },
    {
      "cell_type": "markdown",
      "metadata": {
        "id": "JP770muFCJUc"
      },
      "source": [
        " a) Write a function nearly equal to test whether two strings are nearly equal. Two strings a and bare nearly equal when a can be generated by a single mutation on b.\n",
        " \n",
        "Aim:\n",
        " \n",
        "Write a function nearly equal to test whether two strings are nearly equal.two strings a and b are nearly equal when a can be generated by a single mutation on b.\n",
        " \n",
        " \n",
        " \n",
        " \n",
        " \n",
        " \n",
        " \n",
        " \n",
        " \n",
        " \n",
        " \n",
        " \n",
        " \n",
        " \n",
        " \n",
        " \n",
        " \n",
        "DESCRIPTION:\n",
        "strlen() function is used to check wether the two string are nearly equal or not by basis of the Length of those Strings\n",
        "len() function is an inbuilt function in Python programming language that returns the length of the string. len() is a built-\n",
        "in function in python.You can use the len() to get the length of the given string, array, list, tuple, dictionary, etc. Value: the given value you want the length of.\n",
        "Return value a return an integer value i.e. the length of the given string, or array, or list, or collections.\n",
        "Syntax:"
      ]
    },
    {
      "cell_type": "code",
      "metadata": {
        "colab": {
          "base_uri": "https://localhost:8080/"
        },
        "id": "7MuIU2wCCg1W",
        "outputId": "ed9123cf-f544-485d-978a-2310017cad4e"
      },
      "source": [
        " def nearlyeq(str1,str2):\n",
        "    count=0\n",
        "    i=j=0\n",
        "    ss=0\n",
        "    while(i<len(str1)and j<len(str2)):\n",
        "        if(str1[i]!=str2[j]):\n",
        "            count+=1\n",
        "        if(len(str1)>len(str2)):\n",
        "            i+=1\n",
        " \n",
        "        elif(len(str1)==len(str2)):\n",
        "            pass\n",
        "        else:\n",
        "            i-=1     \n",
        "        if(count>1):\n",
        "             ss-=1\n",
        "             \n",
        "        i+=1\n",
        "        j+=1\n",
        "        if(count<2):\n",
        "             ss+=1\n",
        " \n",
        "    return ss\n",
        "s1=input(\"enter a string 1:\")\n",
        "s2=input(\"enter the string2:\")\n",
        "t=nearlyeq(s1,s2)\n",
        "if(t>1):\n",
        "    print(\"neraly equal0\")\n",
        "else:\n",
        "    print(\"not nearly equal\")"
      ],
      "execution_count": null,
      "outputs": [
        {
          "output_type": "stream",
          "name": "stdout",
          "text": [
            "enter a string 1:4\n",
            "enter the string2:7\n",
            "not nearly equal\n"
          ]
        }
      ]
    },
    {
      "cell_type": "markdown",
      "metadata": {
        "id": "Ll3CaWKxCr0o"
      },
      "source": [
        " \n",
        "b)write a function dup to find all duplicates in the list\n",
        " \n",
        "Aim:\n",
        " \n",
        "write a function dup to find all duplicates in the list\n",
        " \n",
        "DESCRIPTION:\n",
        " \n",
        "To check if a list contains any duplicate element follow the following steps,\n",
        "Add the contents of list in a set.\n",
        "As set contains only unique elements, so no duplicates will be added the the set.\n",
        "Compare the size of set and list.\n",
        "If size of list & set is equal then it means no duplicates in list.\n",
        "If size of list & set are different then it means yes, there are duplicates in list."
      ]
    },
    {
      "cell_type": "code",
      "metadata": {
        "colab": {
          "base_uri": "https://localhost:8080/"
        },
        "id": "CSyEPazSC1WQ",
        "outputId": "f46bfb90-e017-4efb-fddb-702a4853476f"
      },
      "source": [
        " def dups(numlist):\n",
        "  temp=[]\n",
        "  for i in numlist:\n",
        "    cnt=numlist.count(i)\n",
        "    if(cnt>1 and(i not in temp)):\n",
        "      temp.append(i)\n",
        "  print(\"Duplicates in the list: \",temp)\n",
        "lst=[1,2,6,9,9,1,3,5,5,2,1]\n",
        "print(\"given elements in the list: \",lst)\n",
        "dups(lst)"
      ],
      "execution_count": null,
      "outputs": [
        {
          "output_type": "stream",
          "name": "stdout",
          "text": [
            "given elements in the list:  [1, 2, 6, 9, 9, 1, 3, 5, 5, 2, 1]\n",
            "Duplicates in the list:  [1, 2, 9, 5]\n"
          ]
        }
      ]
    },
    {
      "cell_type": "markdown",
      "metadata": {
        "id": "MrTe8AFSC77p"
      },
      "source": [
        " \n",
        "c)write a function unique to find all unique elements in the list.\n",
        " \n",
        "Aim:\n",
        " \n",
        "write a function unique to find all unique elements in the list.\n",
        " \n",
        "DESCRIPTION:\n",
        " \n",
        "To find the unique in the list .There is a Specific Method i.e.,\n",
        " \n",
        "Method : Traversal of list\n",
        "Using traversal, we can traverse for every element in the list and check if the element is in the unique_list already if it is not over there, then we can append it in the unique_list.\n",
        "This is done using one for loop and other if statement which check if the value is in the unique list or not which is equivalent to another for loop"
      ]
    },
    {
      "cell_type": "code",
      "metadata": {
        "colab": {
          "base_uri": "https://localhost:8080/"
        },
        "id": "ag4tv12vDJtW",
        "outputId": "f40d20d5-bb39-4152-922d-57ac7158e3e2"
      },
      "source": [
        " def unique(numlist):\n",
        "  temp=[]\n",
        "  for i in numlist:\n",
        "    cnt=numlist.count(i)\n",
        "    if cnt==1:\n",
        "      temp.append(i)\n",
        "  print(\"Unique elements in the list: \",temp)\n",
        "lst=[1,2,6,9,9,1,3,5,5,2,1]\n",
        "print(\"given elements in the list: \",lst)\n",
        "unique(lst)"
      ],
      "execution_count": null,
      "outputs": [
        {
          "output_type": "stream",
          "name": "stdout",
          "text": [
            "given elements in the list:  [1, 2, 6, 9, 9, 1, 3, 5, 5, 2, 1]\n",
            "Unique elements in the list:  [6, 3]\n"
          ]
        }
      ]
    },
    {
      "cell_type": "markdown",
      "metadata": {
        "id": "KEHgbt69DQBH"
      },
      "source": [
        " \n",
        "Exercise-10:functions-Problem Solving\n",
        " \n",
        "a) Write a function cumulative product to compute cumulative product of a list of numbers.\n",
        " \n",
        "Aim:\n",
        " \n",
        "Write a function cumulative product to compute cumulative product of a list of numbers.\n",
        " \n",
        "DESCRIPTION:\n",
        " \n",
        "A cumulative product is a sequence of partial products of a given sequence. For example, the cumulative products of the sequence. , are , , .. Cumulative products can be implemented in the Wolfram Language as Rest[FoldList[Times, 1, list]]cumprod(A,1) works on successive elements in the columns of A and returns the cumulative products of each column. cumprod(A,2) works on successive elements in the rows of A and returns the cumulative products of each row.\n",
        "umprod() function is used when we want to compute the cumulative product of array elements over a given axis. Syntax : numpy.cumprod(arr, axis=None, dtype=None, out=None) Parameters : arr : [array_like] Array containing numbers whose cumulative product is desired."
      ]
    },
    {
      "cell_type": "code",
      "metadata": {
        "colab": {
          "base_uri": "https://localhost:8080/"
        },
        "id": "aN_yhN_5DaiH",
        "outputId": "02ab6097-2c90-4a95-85b1-6a3a098a783b"
      },
      "source": [
        " def cumulative_product(list1,n):\n",
        "    list2=[]\n",
        "    i=0\n",
        "    list2.append(list1[i])\n",
        "    for i in range(1,n):\n",
        "        v=list1[i]*list2[i-1]\n",
        "        list2.append(v)\n",
        "        \n",
        "    print(list2)\n",
        "list3=[]\n",
        "n=int(input(\"enter size :\"))\n",
        "print(\"enter the data:\")\n",
        "for i in range(0,n):\n",
        "    x=int(input())\n",
        "    list3.append(x)\n",
        "cumulative_product(list3,n)"
      ],
      "execution_count": null,
      "outputs": [
        {
          "output_type": "stream",
          "name": "stdout",
          "text": [
            "enter size :2\n",
            "enter the data:\n",
            "45\n",
            "40\n",
            "[45, 1800]\n"
          ]
        }
      ]
    },
    {
      "cell_type": "markdown",
      "metadata": {
        "id": "gTB4b6V5Dj38"
      },
      "source": [
        " b)Write a function reverse to reverse a list. without using the reverse function.\n",
        " \n",
        "Aim:\n",
        " \n",
        "Write a function reverse to reverse a list. without using the reverse function.\n",
        " \n",
        "DESCRIPTION:\n",
        " \n",
        "In this Python code snippet post, we are going to implement a list reverse function from the scratch without using any builtin functions.\n",
        "Let us see how…\n",
        " \n",
        "Iterative solution\n",
        " \n",
        "We can use a for loop to swap the first and last items, the second and the one before the last item and so on until the list is reversed in place. The number of iterations needed is half the list size. If the list has an odd number of items then the middle item will stay in its place."
      ]
    },
    {
      "cell_type": "code",
      "metadata": {
        "colab": {
          "base_uri": "https://localhost:8080/"
        },
        "id": "BDbCqwqQDuYw",
        "outputId": "af92b7d0-8597-4874-9a5f-bd3c095bb394"
      },
      "source": [
        " def reverse_list(numlist):\n",
        "    temp=list1[::-1]\n",
        "    numlist=temp\n",
        "    return temp\n",
        "list1=[1,2,3,4]\n",
        "print(\"giiven list is :\",list1)\n",
        "print(\"after reverse function:\",reverse_list(list1))\n",
        "print(\"after list is:\",list1)"
      ],
      "execution_count": null,
      "outputs": [
        {
          "output_type": "stream",
          "name": "stdout",
          "text": [
            "giiven list is : [1, 2, 3, 4]\n",
            "after reverse function: [4, 3, 2, 1]\n",
            "after list is: [1, 2, 3, 4]\n"
          ]
        }
      ]
    },
    {
      "cell_type": "markdown",
      "metadata": {
        "id": "oqqK-swVDzsa"
      },
      "source": [
        "c)Write a function to compute gcd,lcm of two numbers.Each function shouldn't exceed one line"
      ]
    },
    {
      "cell_type": "markdown",
      "metadata": {
        "id": "kEafdAUTD4MR"
      },
      "source": [
        " \n",
        "Aim:\n",
        " \n",
        "Write a function to compute gcd,lcm of two numbers.Each function shouldn't exceed one line.\n",
        "DESCRIPTION:\n",
        " \n",
        "Python provides you an anonymous function called lambda. It can take any number of arguments, but can only have one expression. It can be used to find LCM and GCD values without exceeding each from from one line.\n",
        "The general format is\n",
        " \n",
        "lambda arguments: expression\n",
        " \n",
        "The expression is executed during the function call and the result is returned. Lambda as a Function\n",
        "The power of using a lambda expression is implementing it using a function"
      ]
    },
    {
      "cell_type": "code",
      "metadata": {
        "colab": {
          "base_uri": "https://localhost:8080/"
        },
        "id": "ZaKibUsLD95v",
        "outputId": "009c71d8-3eb1-4f90-8418-d0362a1771e2"
      },
      "source": [
        " gcd=lambda a,b: a if b==0 else gcd(a,a%b)\n",
        "lcm=lambda a,b: (a*b)/gcd(a,b)\n",
        " \n",
        "x=7\n",
        "y=21\n",
        "print(\"gcd=\",gcd(x,y))\n",
        "print(\"lcm=\",lcm(x,y))"
      ],
      "execution_count": null,
      "outputs": [
        {
          "output_type": "stream",
          "name": "stdout",
          "text": [
            "gcd= 7\n",
            "lcm= 21.0\n"
          ]
        }
      ]
    },
    {
      "cell_type": "markdown",
      "metadata": {
        "id": "3yjM8PouED8X"
      },
      "source": [
        " Exercise-11-Multi-D-Lists\n",
        " \n",
        "a) write a program that defines a matrix and prints.\n",
        "Aim:\n",
        " \n",
        "Write a program that defines a matrix and prints.\n",
        "DESCRIPTION:\n",
        " \n",
        "Lists are a veryp widely use data structure in python. They contain a list of elements separated by comma. But sometimes lists can also contain lists within them. These are called nested lists ormultidimensional lists. In this article we will see how to create and access elements in a multidimensional list.\n",
        "Methods on Multidimensional lists append(): Adds an element at the end of the list. extend(): Add the elements of a list (or any iterable), to the end of the current list. reverse(): Reverses the order of the list."
      ]
    },
    {
      "cell_type": "code",
      "metadata": {
        "colab": {
          "base_uri": "https://localhost:8080/"
        },
        "id": "n5TTiuyREL0B",
        "outputId": "6e0cc18f-a875-401d-9a50-a2b70875ad5c"
      },
      "source": [
        " matA=[[]]\n",
        "rows=int(input(\"Enter row size of matrix: \"))\n",
        "cols=int(input(\"Enter column size of matrix: \"))\n",
        "matA=[[int(input(\"Enter[%d,%d] value: \"%(i,j)))for j in range(cols)]for i in range(rows)]\n",
        "print(\"matrix is: \")\n",
        "for i in range(rows):\n",
        "  for j in range(cols):\n",
        "    print(matA[i][j],end='\\t')\n",
        "  print()"
      ],
      "execution_count": null,
      "outputs": [
        {
          "output_type": "stream",
          "name": "stdout",
          "text": [
            "Enter row size of matrix: 2\n",
            "Enter column size of matrix: 3\n",
            "Enter[0,0] value: 2\n",
            "Enter[0,1] value: 3\n",
            "Enter[0,2] value: 4\n",
            "Enter[1,0] value: 5\n",
            "Enter[1,1] value: 6\n",
            "Enter[1,2] value: 6\n",
            "matrix is: \n",
            "2\t3\t4\t\n",
            "5\t6\t6\t\n"
          ]
        }
      ]
    },
    {
      "cell_type": "markdown",
      "metadata": {
        "id": "6NGwITvmEZpW"
      },
      "source": [
        " b)Write a program to perform addition of two square matrices.\n",
        " \n",
        "Aim:\n",
        " \n",
        "Write a program to perform addition of two square matrices.\n",
        "L\n",
        "DESCRIPTION:\n",
        " \n",
        "We can perform matrix addition in following ways in Python.\n",
        " \n",
        "Using for loop: Explanation :- In this program we have used nested for loops to iterate through each row and each column. At each point we add the corresponding elements in the two matrices and store it in the result.\n",
        "Using nested list comprehension :\n",
        " \n",
        "In Python, we can implement a matrix as nested list (list inside a list). We can treat each element\n",
        "explanation\n",
        " \n",
        "The output of this program is the same as above. We have used nested list comprehension to iterate through each element in the matrix. List comprehension allows us to write concise codes and we must try to use them frequently in Python. They are very helpful.\n",
        " \n",
        "uising zip function Explanation :\n",
        " \n",
        "The zip function accepts iterator i of each element(list) of matrix, mapping them, adding them using sum() and storing them in the map form."
      ]
    },
    {
      "cell_type": "code",
      "metadata": {
        "colab": {
          "base_uri": "https://localhost:8080/"
        },
        "id": "vmbYK5UFEuVg",
        "outputId": "c6729436-fdd5-4658-b016-a9249edeaf04"
      },
      "source": [
        " def matRead(r,c):\n",
        "  return[[int(input(\"[%d,%d]value:\"%(i,j)))for j in range(c)]for i in range(r)]\n",
        "def matDisp(mat,r,c):\n",
        "  for i in range(r):\n",
        "    for j in range(c):\n",
        "      print(mat[i][j],end='\\t')\n",
        "    print()\n",
        "matA=[[]]\n",
        "matB=[[]]       \n",
        "matSum=[[]]\n",
        "rows=int(input(\"Enter row size of the matrix: \"))\n",
        "cols=int(input(\"Enter column size of the matrix: \"))\n",
        "if rows==cols:\n",
        "  print(\"Enter Matrix-A elements: \")\n",
        "  matA=matRead(rows,cols)\n",
        " \n",
        "  print(\"Enter Matrix-B elements: \")\n",
        "  matB=matRead(rows,cols)\n",
        " \n",
        "  print(\"Matrix-A is: \")\n",
        "  matDisp(matA,rows,cols)\n",
        " \n",
        "  print(\"Matrix-B is: \")\n",
        "  matDisp(matB,rows,cols)\n",
        "  matSum=[[matA[i][j]+matB[i][j]for j in range(cols)]for i in range(rows)]\n",
        "  print(\"sum of matrices is: \")\n",
        "  matDisp(matSum,rows,cols)\n",
        "else:\n",
        "  print(\"Matrices addition is not possible\")"
      ],
      "execution_count": null,
      "outputs": [
        {
          "output_type": "stream",
          "name": "stdout",
          "text": [
            "Enter row size of the matrix: 2\n",
            "Enter column size of the matrix: 2\n",
            "Enter Matrix-A elements: \n",
            "[0,0]value:1\n",
            "[0,1]value:2\n",
            "[1,0]value:3\n",
            "[1,1]value:4\n",
            "Enter Matrix-B elements: \n",
            "[0,0]value:5\n",
            "[0,1]value:6\n",
            "[1,0]value:7\n",
            "[1,1]value:8\n",
            "Matrix-A is: \n",
            "1\t2\t\n",
            "3\t4\t\n",
            "Matrix-B is: \n",
            "5\t6\t\n",
            "7\t8\t\n",
            "sum of matrices is: \n",
            "6\t8\t\n",
            "10\t12\t\n"
          ]
        }
      ]
    },
    {
      "cell_type": "markdown",
      "metadata": {
        "id": "4YarNp0QFImE"
      },
      "source": [
        "c)write a program to perform multiplication of two square matrices."
      ]
    },
    {
      "cell_type": "markdown",
      "metadata": {
        "id": "fSsjtUxWFC1a"
      },
      "source": [
        " \n",
        "Aim:\n",
        " \n",
        "write a program to perform multiplication of two square matrices.\n",
        " \n",
        "DESCRIPTION:\n",
        " \n",
        "In Python, we can implement a matrix as nested list (list inside a list). We can treat each element as a row of the matrix.\n",
        "For example X = [[1, 2], [4, 5], [3, 6]] would represent a 3x2 matrix.\n",
        "The first row can be selected as X[0]. And, the element in first row, first column can be selected as X[0][0].\n",
        "Multiplication of two matrices X and Y is defined only if the number of columns in X is equal to the number of rows Y.\n",
        "If X is a n x m matrix and Y is a m x l matrix then, XY is defined and has the dimension n x l (but YX is not defined). Here are a couple of ways to implement matrix multiplication in Python"
      ]
    },
    {
      "cell_type": "code",
      "metadata": {
        "colab": {
          "base_uri": "https://localhost:8080/"
        },
        "id": "AGRNPym4FRtv",
        "outputId": "23cf578f-b4b3-4b96-8a52-2cd6530b7740"
      },
      "source": [
        " def  matRead(r,c):  \n",
        "  return[[int(input(\"[%d,%d]value: \"%(i,j)))for j in range(c)]for i in range(r)]\n",
        "def matDisp(mat,r,c):\n",
        "  for i in range(r):\n",
        "    for j in range(c):\n",
        "      print(mat[i][j],end='\\t')\n",
        "matA=[[]]\n",
        "matB=[[]]\n",
        "matMul=[[]]\n",
        "rows=int(input(\"Enter row size of the Matrix: \"))\n",
        "cols=int(input(\"Enter column size of the Matrix: \"))\n",
        " \n",
        "if rows==cols:\n",
        "  print(\"Enter Matrix-A: \")\n",
        "  matA=matRead(rows,cols)\n",
        "  print(\" Enter Matrix-B: \")\n",
        "  matB=matRead(rows,cols)\n",
        " \n",
        "  matMul=[[0 for j in range(cols)]for i in range(rows)]\n",
        "  for i in range(rows):\n",
        "    for j in range(cols):\n",
        "      for k in range(cols):\n",
        "        matMul[i][j]+=matA[i][k]*matB[k][j]\n",
        "  print(\"Matrix-A is: \")\n",
        "  matDisp(matA,rows,cols)\n",
        " \n",
        "  print(\"Matrix-B is: \")\n",
        "  matDisp(matB,rows,cols)\n",
        " \n",
        "  print(\"Multiplication of matrices is: \")\n",
        "  matDisp(matMul,rows,cols)\n",
        "else:\n",
        "  print(\"Matrices Multiplication is not possible is\")"
      ],
      "execution_count": null,
      "outputs": [
        {
          "output_type": "stream",
          "name": "stdout",
          "text": [
            "Enter row size of the Matrix: 2\n",
            "Enter column size of the Matrix: 2\n",
            "Enter Matrix-A: \n",
            "[0,0]value: 1\n",
            "[0,1]value: 2\n",
            "[1,0]value: 3\n",
            "[1,1]value: 4\n",
            " Enter Matrix-B: \n",
            "[0,0]value: 5\n",
            "[0,1]value: 6\n",
            "[1,0]value: 7\n",
            "[1,1]value: 8\n",
            "Matrix-A is: \n",
            "1\t2\t3\t4\tMatrix-B is: \n",
            "5\t6\t7\t8\tMultiplication of matrices is: \n",
            "19\t22\t43\t50\t"
          ]
        }
      ]
    },
    {
      "cell_type": "markdown",
      "metadata": {
        "id": "-tz-6Pz3GLvR"
      },
      "source": [
        " Exercise - 12 : Modules\n",
        " \n",
        "a) Install packages requests, flask and explore them. using (pip)\n",
        " \n",
        "Aim:\n",
        " \n",
        "Install packages requests, flask and explore them. using (pip)\n",
        " \n",
        "DESCRIPTION:\n",
        " \n",
        "Installing the pip Python package manager on Windows If you are on Windows, and your installed Python the current version, you already have pip! If your Python installation is not the most recent, the easiest thing to do is to simply reinstall it. Download the Python Windows installer at https://www.python.org/downloads\n",
        " \n",
        "In Windows, the variable that controls which programs are accessible from the command line is path. To modify your path to include Python and pip, we have to add C:\\Python27 and C:\\Python27\\Tools. Edit the Windows path by opening the Windows menu, right-clicking on Computer and clicking on Properties. Under Advanced system settings, click Environment Variables.... Scroll down until you find Path, double-click it, and add ;C:\\Python27;C:\\Python27\\Tools to the end.\n",
        "Installing packages:\n",
        "Suppose you want to install a package called requests (which is used to make HTTP requests). You need to issue the following command.\n",
        "pip install requestsshow installed\n",
        " \n",
        "pip install requestsshow installed packages You can use the following command to get information about a installed package, i.e Package name, version, location, dependencies. pip show package_name install flask On Mac and Linux, because you are installing programs outside the user-owned folders, you might have to prepend sudo to the install commands. To install Flask, simply run this:\n",
        "$ pip install flask\n",
        "show installed flask\n",
        "You can use the following command to get information about a installed flask, i.e Package name, version, location, dependencies\n",
        "$ pip show flask\n",
        "PROGRAM: The reuests and flask packages are download from internet using the following commandscommands\n",
        " \n",
        "c:\\python 3.9\\scripts>pip install requests\n",
        "c:\\python 3.9\\scripts>pip show requests\n",
        "c:\\python 3.9\\scripts>pip install flask\n",
        "c:\\python 3.9\\scripts>pip show flask\n",
        "https://drive.google.com/file/d/1H1xDdPf3STLM8BivVum2IE9DHUaVUov5/view?usp=sharing\n",
        "https://drive.google.com/file/d/1s7OuAcNw0mleuB1PE6DnN93fDFzHaDCd/view?usp=sharing\n",
        "https://drive.google.com/file/d/1Y5tZqVGVbtNItIsEVKmmv_VCtHo_Gieq/view?usp=sharing\n",
        "https://drive.google.com/file/d/111lqK5HU4_SpTlOQ_52nEn5g41X-ESkI/view?usp=sharing"
      ]
    },
    {
      "cell_type": "markdown",
      "metadata": {
        "id": "po2_e4lDG0MM"
      },
      "source": [
        " \n",
        "Write a script that imports requests and fetch content from the page. Eg. (Wiki)\n",
        "Aim:\n",
        " \n",
        "Write a script that imports requests and fetch content from the page. Eg. (Wiki)\n",
        "DESCRIPTION:\n",
        " \n",
        "The Hypertext Transfer Protocol (HTTP) is an application protocol for distributed, collaborative, hypermedia information systems. HTTP is the foundation of data communication for the World Wide Web.\n",
        "Python requests\n",
        "Requests is a simple and elegant Python HTTP library. It provides methods for accessing Web resources via HTTP.\n",
        "Python requests reading a web page"
      ]
    },
    {
      "cell_type": "code",
      "metadata": {
        "colab": {
          "base_uri": "https://localhost:8080/"
        },
        "id": "vgIBB51LG8nX",
        "outputId": "a0891b5d-fd71-4138-d200-a3663cd08864"
      },
      "source": [
        " import requests\n",
        "r=requests.get('https://www.google.com')\n",
        "print(\"status coed:\",r.status_code)\n",
        "print(\"header content:\",r.headers['content-type'])\n",
        "print(r.text)"
      ],
      "execution_count": null,
      "outputs": [
        {
          "output_type": "stream",
          "name": "stdout",
          "text": [
            "status coed: 200\n",
            "header content: text/html; charset=ISO-8859-1\n",
            "<!doctype html><html itemscope=\"\" itemtype=\"http://schema.org/WebPage\" lang=\"zh-TW\"><head><meta content=\"text/html; charset=UTF-8\" http-equiv=\"Content-Type\"><meta content=\"/images/branding/googleg/1x/googleg_standard_color_128dp.png\" itemprop=\"image\"><title>Google</title><script nonce=\"BpePqpXHvXgHPTqd2Prsag==\">(function(){window.google={kEI:'sMk1YbnMCo6Vr7wPzuiakAM',kEXPI:'0,772215,1,530320,56873,954,5104,207,4804,926,1390,383,246,5,1354,5251,1122515,1197714,569,118,328866,51224,16114,19398,9286,17572,4858,1362,9291,3026,17582,4998,13228,3847,3599,7023,19044,2778,919,5081,1593,1279,2212,530,149,1103,840,1983,4314,108,3406,606,2023,1777,520,14670,3227,1989,856,7,4774,7580,5096,7540,8227,553,908,2,941,2614,13142,3,576,6459,149,13975,4,1528,2304,1236,10487,2014,13611,4764,2658,4243,2458,654,32,11412,2216,2305,638,1494,5587,3771,7428,2521,3297,2539,992,3102,17,3121,6,908,3,3541,1,5096,2,1,3,9608,1814,283,912,5996,3467,13257,1344,371,2,3057,10965,1931,1146,386,2377,161,248,1271,743,5853,1576,3,471,6823,992,598,1160,1269,2834,1925,381,291,2117,263,2717,4547,3,125,16,5332,5388,461,2362,46,2,6,4944,2792,1933,190,2445,383,1213,982,372,1396,1020,336,115,436,2984,1593,796,1265,52,214,549,2,1,78,1662,49,539,720,2,792,592,1764,639,4,64,118,1049,904,811,536,531,66,28,58,3,366,36,659,12,515,783,673,853,2,860,585,11,150,92,442,2,661,1126,568,250,905,57,53,256,70,6,758,440,394,84,1992,101,2,1555,5582977,226,220,73,206,5996589,2800697,882,444,1,2,80,1,1796,1,9,2553,1,748,141,795,563,1,4265,1,1,2,1331,4142,2609,155,17,13,72,139,4,2,20,2,169,13,19,46,5,39,96,548,29,2,2,1,2,1,2,2,7,4,1,2,2,2,2,2,2,353,513,186,1,1,158,3,2,2,2,2,2,4,2,3,3,269,291,53,45,14,7,20,19,31,21,4,21,23654332,299864,2862028,1179324,338,3,2414,448,2,89,374,172,406,9,3243,117,1417,881,110',kBL:'Wtym'};google.sn='webhp';google.kHL='zh-TW';})();(function(){\n",
            "var f=this||self;var h,k=[];function l(a){for(var b;a&&(!a.getAttribute||!(b=a.getAttribute(\"eid\")));)a=a.parentNode;return b||h}function m(a){for(var b=null;a&&(!a.getAttribute||!(b=a.getAttribute(\"leid\")));)a=a.parentNode;return b}\n",
            "function n(a,b,c,d,g){var e=\"\";c||-1!==b.search(\"&ei=\")||(e=\"&ei=\"+l(d),-1===b.search(\"&lei=\")&&(d=m(d))&&(e+=\"&lei=\"+d));d=\"\";!c&&f._cshid&&-1===b.search(\"&cshid=\")&&\"slh\"!==a&&(d=\"&cshid=\"+f._cshid);c=c||\"/\"+(g||\"gen_204\")+\"?atyp=i&ct=\"+a+\"&cad=\"+b+e+\"&zx=\"+Date.now()+d;/^http:/i.test(c)&&\"https:\"===window.location.protocol&&(google.ml&&google.ml(Error(\"a\"),!1,{src:c,glmm:1}),c=\"\");return c};h=google.kEI;google.getEI=l;google.getLEI=m;google.ml=function(){return null};google.log=function(a,b,c,d,g){if(c=n(a,b,c,d,g)){a=new Image;var e=k.length;k[e]=a;a.onerror=a.onload=a.onabort=function(){delete k[e]};a.src=c}};google.logUrl=n;}).call(this);(function(){\n",
            "google.y={};google.sy=[];google.x=function(a,b){if(a)var c=a.id;else{do c=Math.random();while(google.y[c])}google.y[c]=[a,b];return!1};google.sx=function(a){google.sy.push(a)};google.lm=[];google.plm=function(a){google.lm.push.apply(google.lm,a)};google.lq=[];google.load=function(a,b,c){google.lq.push([[a],b,c])};google.loadAll=function(a,b){google.lq.push([a,b])};google.bx=!1;google.lx=function(){};}).call(this);google.f={};(function(){\n",
            "document.documentElement.addEventListener(\"submit\",function(b){var a;if(a=b.target){var c=a.getAttribute(\"data-submitfalse\");a=\"1\"==c||\"q\"==c&&!a.elements.q.value?!0:!1}else a=!1;a&&(b.preventDefault(),b.stopPropagation())},!0);document.documentElement.addEventListener(\"click\",function(b){var a;a:{for(a=b.target;a&&a!=document.documentElement;a=a.parentElement)if(\"A\"==a.tagName){a=\"1\"==a.getAttribute(\"data-nohref\");break a}a=!1}a&&b.preventDefault()},!0);}).call(this);</script><style>#gbar,#guser{font-size:13px;padding-top:1px !important;}#gbar{height:22px}#guser{padding-bottom:7px !important;text-align:right}.gbh,.gbd{border-top:1px solid #c9d7f1;font-size:1px}.gbh{height:0;position:absolute;top:24px;width:100%}@media all{.gb1{height:22px;margin-right:.5em;vertical-align:top}#gbar{float:left}}a.gb1,a.gb4{text-decoration:underline !important}a.gb1,a.gb4{color:#00c !important}.gbi .gb4{color:#dd8e27 !important}.gbf .gb4{color:#900 !important}\n",
            "</style><style>body,td,a,p,.h{font-family:arial,sans-serif}body{margin:0;overflow-y:scroll}#gog{padding:3px 8px 0}td{line-height:.8em}.gac_m td{line-height:17px}form{margin-bottom:20px}.h{color:#1558d6}em{color:#c5221f;font-style:normal;font-weight:normal}a em{text-decoration:underline}.lst{height:25px;width:496px}.gsfi,.lst{font:18px arial,sans-serif}.gsfs{font:17px arial,sans-serif}.ds{display:inline-box;display:inline-block;margin:3px 0 4px;margin-left:4px}input{font-family:inherit}body{background:#fff;color:#000}a{color:#4b11a8;text-decoration:none}a:hover,a:active{text-decoration:underline}.fl a{color:#1558d6}a:visited{color:#4b11a8}.sblc{padding-top:5px}.sblc a{display:block;margin:2px 0;margin-left:13px;font-size:11px}.lsbb{background:#f8f9fa;border:solid 1px;border-color:#dadce0 #70757a #70757a #dadce0;height:30px}.lsbb{display:block}#WqQANb a{display:inline-block;margin:0 12px}.lsb{background:url(/images/nav_logo229.png) 0 -261px repeat-x;border:none;color:#000;cursor:pointer;height:30px;margin:0;outline:0;font:15px arial,sans-serif;vertical-align:top}.lsb:active{background:#dadce0}.lst:focus{outline:none}</style><script nonce=\"BpePqpXHvXgHPTqd2Prsag==\"></script></head><body bgcolor=\"#fff\"><script nonce=\"BpePqpXHvXgHPTqd2Prsag==\">(function(){var src='/images/nav_logo229.png';var iesg=false;document.body.onload = function(){window.n && window.n();if (document.images){new Image().src=src;}\n",
            "if (!iesg){document.f&&document.f.q.focus();document.gbqf&&document.gbqf.q.focus();}\n",
            "}\n",
            "})();</script><div id=\"mngb\"><div id=gbar><nobr><b class=gb1>&#25628;&#23563;</b> <a class=gb1 href=\"https://www.google.com.tw/imghp?hl=zh-TW&tab=wi\">&#22294;&#29255;</a> <a class=gb1 href=\"https://maps.google.com.tw/maps?hl=zh-TW&tab=wl\">&#22320;&#22294;</a> <a class=gb1 href=\"https://play.google.com/?hl=zh-TW&tab=w8\">Play</a> <a class=gb1 href=\"https://www.youtube.com/?gl=TW&tab=w1\">YouTube</a> <a class=gb1 href=\"https://news.google.com/?tab=wn\">&#26032;&#32862;</a> <a class=gb1 href=\"https://mail.google.com/mail/?tab=wm\">Gmail</a> <a class=gb1 href=\"https://drive.google.com/?tab=wo\">&#38642;&#31471;&#30828;&#30879;</a> <a class=gb1 style=\"text-decoration:none\" href=\"https://www.google.com.tw/intl/zh-TW/about/products?tab=wh\"><u>&#26356;&#22810;</u> &raquo;</a></nobr></div><div id=guser width=100%><nobr><span id=gbn class=gbi></span><span id=gbf class=gbf></span><span id=gbe></span><a href=\"http://www.google.com.tw/history/optout?hl=zh-TW\" class=gb4>&#32178;&#38913;&#35352;&#37636;</a> | <a  href=\"/preferences?hl=zh-TW\" class=gb4>&#35373;&#23450;</a> | <a target=_top id=gb_70 href=\"https://accounts.google.com/ServiceLogin?hl=zh-TW&passive=true&continue=https://www.google.com/&ec=GAZAAQ\" class=gb4>&#30331;&#20837;</a></nobr></div><div class=gbh style=left:0></div><div class=gbh style=right:0></div></div><center><br clear=\"all\" id=\"lgpd\"><div id=\"lga\"><img alt=\"Google\" height=\"92\" src=\"/images/branding/googlelogo/1x/googlelogo_white_background_color_272x92dp.png\" style=\"padding:28px 0 14px\" width=\"272\" id=\"hplogo\"><br><br></div><form action=\"/search\" name=\"f\"><table cellpadding=\"0\" cellspacing=\"0\"><tr valign=\"top\"><td width=\"25%\">&nbsp;</td><td align=\"center\" nowrap=\"\"><input name=\"ie\" value=\"ISO-8859-1\" type=\"hidden\"><input value=\"zh-TW\" name=\"hl\" type=\"hidden\"><input name=\"source\" type=\"hidden\" value=\"hp\"><input name=\"biw\" type=\"hidden\"><input name=\"bih\" type=\"hidden\"><div class=\"ds\" style=\"height:32px;margin:4px 0\"><input class=\"lst\" style=\"margin:0;padding:5px 8px 0 6px;vertical-align:top;color:#000\" autocomplete=\"off\" value=\"\" title=\"Google &#25628;&#23563;\" maxlength=\"2048\" name=\"q\" size=\"57\"></div><br style=\"line-height:0\"><span class=\"ds\"><span class=\"lsbb\"><input class=\"lsb\" value=\"Google &#25628;&#23563;\" name=\"btnG\" type=\"submit\"></span></span><span class=\"ds\"><span class=\"lsbb\"><input class=\"lsb\" id=\"tsuid1\" value=\"&#22909;&#25163;&#27683;\" name=\"btnI\" type=\"submit\"><script nonce=\"BpePqpXHvXgHPTqd2Prsag==\">(function(){var id='tsuid1';document.getElementById(id).onclick = function(){if (this.form.q.value){this.checked = 1;if (this.form.iflsig)this.form.iflsig.disabled = false;}\n",
            "else top.location='/doodles/';};})();</script><input value=\"ALs-wAMAAAAAYTXXwJszfI0Fv3Yz_MJKe0k9G1SpA_qV\" name=\"iflsig\" type=\"hidden\"></span></span></td><td class=\"fl sblc\" align=\"left\" nowrap=\"\" width=\"25%\"><a href=\"/advanced_search?hl=zh-TW&amp;authuser=0\">&#36914;&#38542;&#25628;&#23563;</a></td></tr></table><input id=\"gbv\" name=\"gbv\" type=\"hidden\" value=\"1\"><script nonce=\"BpePqpXHvXgHPTqd2Prsag==\">(function(){\n",
            "var a,b=\"1\";if(document&&document.getElementById)if(\"undefined\"!=typeof XMLHttpRequest)b=\"2\";else if(\"undefined\"!=typeof ActiveXObject){var c,d,e=[\"MSXML2.XMLHTTP.6.0\",\"MSXML2.XMLHTTP.3.0\",\"MSXML2.XMLHTTP\",\"Microsoft.XMLHTTP\"];for(c=0;d=e[c++];)try{new ActiveXObject(d),b=\"2\"}catch(h){}}a=b;if(\"2\"==a&&-1==location.search.indexOf(\"&gbv=2\")){var f=google.gbvu,g=document.getElementById(\"gbv\");g&&(g.value=a);f&&window.setTimeout(function(){location.href=f},0)};}).call(this);</script></form><div id=\"gac_scont\"></div><div style=\"font-size:83%;min-height:3.5em\"><br></div><span id=\"footer\"><div style=\"font-size:10pt\"><div style=\"margin:19px auto;text-align:center\" id=\"WqQANb\"><a href=\"/intl/zh-TW/ads/\">&#24291;&#21578;&#26381;&#21209;</a><a href=\"http://www.google.com.tw/intl/zh-TW/services/\">&#21830;&#26989;&#35299;&#27770;&#26041;&#26696;</a><a href=\"/intl/zh-TW/about.html\">&#38364;&#26044; Google</a><a href=\"https://www.google.com/setprefdomain?prefdom=TW&amp;prev=https://www.google.com.tw/&amp;sig=K_8QmZQLeqRQtOIDauXDqrSy4G4Cc%3D\">Google.com.tw</a></div></div><p style=\"font-size:8pt;color:#70757a\">&copy; 2021 - <a href=\"/intl/zh-TW/policies/privacy/\">&#38577;&#31169;&#27402;</a> - <a href=\"/intl/zh-TW/policies/terms/\">&#26381;&#21209;&#26781;&#27454;</a></p></span></center><script nonce=\"BpePqpXHvXgHPTqd2Prsag==\">(function(){window.google.cdo={height:757,width:1440};(function(){\n",
            "var a=window.innerWidth,b=window.innerHeight;if(!a||!b){var c=window.document,d=\"CSS1Compat\"==c.compatMode?c.documentElement:c.body;a=d.clientWidth;b=d.clientHeight}a&&b&&(a!=google.cdo.width||b!=google.cdo.height)&&google.log(\"\",\"\",\"/client_204?&atyp=i&biw=\"+a+\"&bih=\"+b+\"&ei=\"+google.kEI);}).call(this);})();</script> <script nonce=\"BpePqpXHvXgHPTqd2Prsag==\">(function(){google.xjs={ck:'',cs:'',excm:[]};})();</script>  <script nonce=\"BpePqpXHvXgHPTqd2Prsag==\">(function(){var u='/xjs/_/js/k\\x3dxjs.hp.en.uJVE4aH5PNY.O/am\\x3dAPgEWA/d\\x3d1/ed\\x3d1/rs\\x3dACT90oH46UR8q8EWogvmv18iTgG_1SJR5A/m\\x3dsb_he,d';\n",
            "var e=this||self,f=function(a){return a};var g;var l=function(a,b){this.g=b===h?a:\"\"};l.prototype.toString=function(){return this.g+\"\"};var h={};function m(){var a=u;google.lx=function(){n(a);google.lx=function(){}};google.bx||google.lx()}\n",
            "function n(a){google.timers&&google.timers.load&&google.tick&&google.tick(\"load\",\"xjsls\");var b=document;var c=\"SCRIPT\";\"application/xhtml+xml\"===b.contentType&&(c=c.toLowerCase());c=b.createElement(c);if(void 0===g){b=null;var k=e.trustedTypes;if(k&&k.createPolicy){try{b=k.createPolicy(\"goog#html\",{createHTML:f,createScript:f,createScriptURL:f})}catch(p){e.console&&e.console.error(p.message)}g=b}else g=b}a=(b=g)?b.createScriptURL(a):a;a=new l(a,h);c.src=a instanceof l&&a.constructor===l?a.g:\"type_error:TrustedResourceUrl\";var d;a=(c.ownerDocument&&c.ownerDocument.defaultView||window).document;(d=(b=null===(d=a.querySelector)||void 0===d?void 0:d.call(a,\"script[nonce]\"))?b.nonce||b.getAttribute(\"nonce\")||\"\":\"\")&&c.setAttribute(\"nonce\",d);document.body.appendChild(c);google.psa=!0};setTimeout(function(){m()},0);})();(function(){window.google.xjsu='/xjs/_/js/k\\x3dxjs.hp.en.uJVE4aH5PNY.O/am\\x3dAPgEWA/d\\x3d1/ed\\x3d1/rs\\x3dACT90oH46UR8q8EWogvmv18iTgG_1SJR5A/m\\x3dsb_he,d';})();function _DumpException(e){throw e;}\n",
            "function _F_installCss(c){}\n",
            "(function(){google.jl={attn:false,blt:'none',chnk:0,dw:false,emtn:0,end:0,ine:false,lls:'default',pdt:0,rep:0,sif:true,snet:true,strt:0,ubm:false,uwp:true};})();(function(){var pmc='{\\x22d\\x22:{},\\x22sb_he\\x22:{\\x22agen\\x22:true,\\x22cgen\\x22:true,\\x22client\\x22:\\x22heirloom-hp\\x22,\\x22dh\\x22:true,\\x22dhqt\\x22:true,\\x22ds\\x22:\\x22\\x22,\\x22ffql\\x22:\\x22zh-TW\\x22,\\x22fl\\x22:true,\\x22host\\x22:\\x22google.com\\x22,\\x22isbh\\x22:28,\\x22jsonp\\x22:true,\\x22msgs\\x22:{\\x22cibl\\x22:\\x22&#28165;&#38500;&#25628;&#23563;\\x22,\\x22dym\\x22:\\x22&#24744;&#26159;&#19981;&#26159;&#35201;&#26597;&#65306;\\x22,\\x22lcky\\x22:\\x22&#22909;&#25163;&#27683;\\x22,\\x22lml\\x22:\\x22&#30637;&#35299;&#35443;&#24773;\\x22,\\x22oskt\\x22:\\x22&#36664;&#20837;&#24037;&#20855;\\x22,\\x22psrc\\x22:\\x22&#24050;&#24478;&#24744;&#30340;&#12300;\\\\u003Ca href\\x3d\\\\\\x22/history\\\\\\x22\\\\u003E&#32178;&#38913;&#35352;&#37636;\\\\u003C/a\\\\u003E&#12301;&#20013;&#31227;&#38500;&#36889;&#31558;&#25628;&#23563;&#35352;&#37636;\\x22,\\x22psrl\\x22:\\x22&#31227;&#38500;\\x22,\\x22sbit\\x22:\\x22&#20197;&#22294;&#25628;&#23563;\\x22,\\x22srch\\x22:\\x22Google &#25628;&#23563;\\x22},\\x22ovr\\x22:{},\\x22pq\\x22:\\x22\\x22,\\x22refpd\\x22:true,\\x22refspre\\x22:true,\\x22rfs\\x22:[],\\x22sbas\\x22:\\x220 3px 8px 0 rgba(0,0,0,0.2),0 0 0 1px rgba(0,0,0,0.08)\\x22,\\x22sbpl\\x22:16,\\x22sbpr\\x22:16,\\x22scd\\x22:10,\\x22stok\\x22:\\x228BhPGEyP5EG7OMqeYBsHBBjLX_k\\x22,\\x22uhde\\x22:false}}';google.pmc=JSON.parse(pmc);})();</script>        </body></html>\n"
          ]
        }
      ]
    },
    {
      "cell_type": "markdown",
      "metadata": {
        "id": "gF2Pfy3bHCdc"
      },
      "source": [
        "C) Write a simple script that serves a simple HTTPResponse and a simple HTML Page"
      ]
    },
    {
      "cell_type": "markdown",
      "metadata": {
        "id": "YG8gG4KTHNkE"
      },
      "source": [
        " \n",
        "Aim:\n",
        "Write a simple script that serves a simple HTTP Response and a simple HTML Page\n",
        "DESCRIPTION:\n",
        " \n",
        "HTTP Protocol\n",
        "The most important part of a web server is HTTP protocol.So now we will see what exactly this is –\n",
        "It stands for Hyper Text Transfer Protocol.\n",
        " \n",
        "It is an application layer protocol that all\n",
        "ows web based applications to communicate and exchange data.\n",
        " \n",
        "The HTTP is the messenger of web.\n",
        " \n",
        "The computer that communicate via the HTTP must speak the HTTP protocol.\n",
        " \n",
        "It is a TCP/IP based protocol.\n",
        " \n",
        "It is used to deliver contents, for eg. images, audios, videos, documents etc.\n",
        " \n",
        "Using HTTP is the most convenient way to quickly and reliably move data on the web.\n",
        " \n",
        "HTML stands for hypertext markup language. It is the standard markup language for web pages that define the structure of the content. These elements are the building blocks of any website\n",
        "PROGRAM"
      ]
    },
    {
      "cell_type": "code",
      "metadata": {
        "colab": {
          "base_uri": "https://localhost:8080/",
          "height": 182
        },
        "id": "IbhoozRsHZ8h",
        "outputId": "cc486ee0-f1fd-45a4-b6e0-b53acc4a3273"
      },
      "source": [
        " from flask import Flask,render_template\n",
        "app=Flask(__name__)\n",
        "print(app)\n",
        "@app.route(\"/\")\n",
        "def main():\n",
        "return render_template('login.html')\n",
        "if __name__==\"__main__\":\n",
        "app.run(host=\"127.0.0.1\",port=2500)\n",
        "<Flask'__main__'>"
      ],
      "execution_count": null,
      "outputs": [
        {
          "output_type": "error",
          "ename": "IndentationError",
          "evalue": "ignored",
          "traceback": [
            "\u001b[0;36m  File \u001b[0;32m\"<ipython-input-40-330557919700>\"\u001b[0;36m, line \u001b[0;32m6\u001b[0m\n\u001b[0;31m    return render_template('login.html')\u001b[0m\n\u001b[0m         ^\u001b[0m\n\u001b[0;31mIndentationError\u001b[0m\u001b[0;31m:\u001b[0m expected an indented block\n"
          ]
        }
      ]
    },
    {
      "cell_type": "markdown",
      "metadata": {
        "id": "3WbdHXIJHt9t"
      },
      "source": [
        " \n",
        "Exercise-13-OOP\n",
        " \n",
        "a) class variables and instance variable and illustration of the self -variable\n",
        " \n",
        "Aim:\n",
        " \n",
        "Class variables and instance variables and illsustration of the self variable\n",
        " \n",
        "1)Robot\n",
        " \n",
        "2)ATM\n",
        "DESCRIPTION:\n",
        " \n",
        "Variables are named storage location. In python variables are not defined by its type instead it will be automatically determined by the value assigned to it. To determine the type of a variable a function called type () is used.\n",
        " \n",
        "class variableis shared by all object instances of a class. ... They are not defined inside any methods of a class. Because a class variable is shared by instances of a class, the Python class owns the variable. As a result, all instances of the class will be able to access that variable\n",
        "Instance variables are owned by instances of the class. This means that for each object or instance of a class, the instance variables are different. ... Instance variables, owned by objects of the class, allow for each object or instance to have different values assigned to those variables\n",
        " \n",
        "self variable is used to bind the instance of the class to the instance method. We have to explicitly declare it as the first method argument to access the instance variables and methods. This variable is used only with the instance methods. PROGRAM:"
      ]
    },
    {
      "cell_type": "code",
      "metadata": {
        "colab": {
          "base_uri": "https://localhost:8080/"
        },
        "id": "CCpkQY6gH-7X",
        "outputId": "3c057247-f5a0-4366-d3fb-5aaf77a5d834"
      },
      "source": [
        " class Robot:\n",
        "    what=\"Machine\"\n",
        "    name=\"lobo\"\n",
        "    version=2.0\n",
        "    speed=\"2THz\"\n",
        "    memory=\"1ZB\"\n",
        " \n",
        "    def update(upd):\n",
        "        upd.version=3.0\n",
        "        upd.speed=\"3THz\"\n",
        "        upd.memory=\"2ZB\"\n",
        " \n",
        "    def disp(self):\n",
        "        print(\"Myself is a\",robj.what)\n",
        "        print(\"MyName is a\",robj.name)\n",
        "        print(\"Version :\",robj.version)\n",
        "        print(\"Speed : \",robj.speed)\n",
        "        print(\"Memory: \",robj.memory)\n",
        " \n",
        "robj=Robot()\n",
        "robj.disp()\n",
        " \n",
        "print(\"---------------Update---------\")\n",
        "robj.update()\n",
        "robj.disp()"
      ],
      "execution_count": null,
      "outputs": [
        {
          "output_type": "stream",
          "name": "stdout",
          "text": [
            "Myself is a Machine\n",
            "MyName is a lobo\n",
            "Version : 2.0\n",
            "Speed :  2THz\n",
            "Memory:  1ZB\n",
            "---------------Update---------\n",
            "Myself is a Machine\n",
            "MyName is a lobo\n",
            "Version : 3.0\n",
            "Speed :  3THz\n",
            "Memory:  2ZB\n"
          ]
        }
      ]
    },
    {
      "cell_type": "code",
      "metadata": {
        "colab": {
          "base_uri": "https://localhost:8080/"
        },
        "id": "NP1F6FFYIEr1",
        "outputId": "b436ce4c-bb2b-4ada-8736-aca3377502bd"
      },
      "source": [
        " class ATM:\n",
        "    def __init__(self):\n",
        "        self.balance=0\n",
        "        print(\"New Account\")\n",
        "        \n",
        "    def enquire(self):\n",
        "        print(\"Balance: \",self.balance)\n",
        "        \n",
        "    def deposit(self):\n",
        "        amount=int(input(\"Enter the Deposit Amount:\"))\n",
        "        self.balance+=amount\n",
        "        self.enquire()\n",
        " \n",
        "    def withdraw(self):\n",
        "        amount=int(input(\"Enter the Withdraw Amount: \"))\n",
        "        if self.balance<amount:\n",
        "            print(\"Insufficient Balance.....!\")\n",
        "        else:\n",
        "            self.balance-=amount\n",
        "            self.enquire()\n",
        " \n",
        "aobj=ATM()\n",
        "while(True):\n",
        "    print(\"*****Menu****\")\n",
        "    print(\"1.Deposit\")\n",
        "    print(\"2.Withdarw\")\n",
        "    print(\"3.Balance\")\n",
        "    print(\"0.Exit\")\n",
        "    ch=int(input(\"Enter Your Choice: \"))\n",
        "    if ch==0:\n",
        "        break\n",
        "    elif ch==1:\n",
        "        aobj.deposit()\n",
        "    elif ch==2:\n",
        "        aobj.withdraw()\n",
        "    elif ch==3:\n",
        "        aobj.enquire()\n",
        "    else:\n",
        "        print(\"Invalid choice:\")\n",
        "        pass"
      ],
      "execution_count": null,
      "outputs": [
        {
          "name": "stdout",
          "output_type": "stream",
          "text": [
            "New Account\n",
            "*****Menu****\n",
            "1.Deposit\n",
            "2.Withdarw\n",
            "3.Balance\n",
            "0.Exit\n",
            "Enter Your Choice: 1\n",
            "Enter the Deposit Amount:100\n",
            "Balance:  100\n",
            "*****Menu****\n",
            "1.Deposit\n",
            "2.Withdarw\n",
            "3.Balance\n",
            "0.Exit\n",
            "Enter Your Choice: 0\n"
          ]
        }
      ]
    },
    {
      "cell_type": "markdown",
      "metadata": {
        "id": "bzIgbTPWIQJI"
      },
      "source": [
        " Exercise 14:GUI,Graphics\n",
        " \n",
        "Write a GUI for an Expression Calculator using tk\n",
        "Aim:\n",
        " \n",
        "Write a GUI for an Expression Calculator using tk Aim:Write a GUI for an Expression Calculator using tk\n",
        " \n",
        "DESCRIPTION:\n",
        " \n",
        "Tkinter is a Python package which comes with many functions and methods that can be used to create an application. In order to create a tkinter application, we generally create an instance of tkinter frame, i.e., Tk(). It helps to display the root window and manages all the other components of the tkinter application. We can initialize the tkinter instance by assigning the variable to"
      ]
    },
    {
      "cell_type": "code",
      "metadata": {
        "colab": {
          "base_uri": "https://localhost:8080/",
          "height": 148
        },
        "id": "gzIGUVv8IZSw",
        "outputId": "3d0cd570-7a48-4535-f03b-6acc552f5be5"
      },
      "source": [
        " PROGRAM:\n",
        "from tkinter import *\n",
        "win = Tk() # to create a basic window\n",
        "win.geometry(\"312x324\") #for the size of the window\n",
        "win.resizable(0, 0) # to prevent from resizing the window\n",
        "win.title(\"Calculator\")\n",
        "# 'btn_click' Function continuously updates the\n",
        "# input field whenever you enters a number\n",
        "def btn_click(item):\n",
        "global expression\n",
        "expression = expression + str(item)\n",
        "input_text.set(expression)\n",
        "# 'bt_clear' function : used to clear the input field\n",
        "def bt_clear():\n",
        "global expression\n",
        "expression = \"\"\n",
        "input_text.set(\"\")\n",
        "# 'bt_equal':calculates the expression present in input field\n",
        "def bt_equal():\n",
        "global expression\n",
        "result = str(eval(expression)) # 'eval':This function is used to evaluates the string\n",
        "input_text.set(result)\n",
        "expression = \"\"\n",
        "expression = \"\"\n",
        "# 'StringVar()' :used to get the instance of input field\n",
        "input_text = StringVar()\n",
        "# creating a frame for the input field\n",
        "input_frame = Frame(win, width=312, height=50, bd=0, highlightbackground=\"black\", highligh\n",
        "input_frame.pack(side=TOP)\n",
        "#create a input field inside the 'Frame'\n",
        "input_field = Entry(input_frame, font=('arial', 18, 'bold'), textvariable=input_text, widt\n",
        "input_field.grid(row=0, column=0)\n",
        "input_field.pack(ipady=10)\n",
        "# 'ipady' is internal padding to increase the height of input field\n",
        "#creating another 'Frame' for the button below the 'input_frame'\n",
        "btns_frame = Frame(win, width=312, height=272.5, bg=\"grey\")\n",
        "btns_frame.pack()\n",
        "# first row\n",
        "clear = Button(btns_frame, text = \"C\", fg = \"black\", width = 32, height = 3, bd = 0, bg =\n",
        "divide = Button(btns_frame, text = \"/\", fg = \"black\", width = 10, height = 3, bd = 0, bg =\n",
        "# second row\n",
        "seven = Button(btns_frame, text = \"7\", fg = \"black\", width = 10, height = 3, bd = 0, bg =\n",
        "eight = Button(btns_frame, text = \"8\", fg = \"black\", width = 10, height = 3, bd = 0, bg =\n",
        "nine = Button(btns_frame, text = \"9\", fg = \"black\", width = 10, height = 3, bd = 0, bg = \"#\n",
        "multiply = Button(btns_frame, text = \"\", fg = \"black\", width = 10, height = 3, bd = 0, bg\n",
        "# third row\n",
        "four = Button(btns_frame, text = \"4\", fg = \"black\", width = 10, height = 3, bd = 0, bg = \"#\n",
        "five = Button(btns_frame, text = \"5\", fg = \"black\", width = 10, height = 3, bd = 0, bg = \"#\n",
        "six = Button(btns_frame, text = \"6\", fg = \"black\", width = 10, height = 3, bd = 0, bg = \"#\n",
        "minus = Button(btns_frame, text = \"-\", fg = \"black\", width = 10, height = 3, bd = 0, bg =\n",
        "# fourth row\n",
        "one = Button(btns_frame, text = \"1\", fg = \"black\", width = 10, height = 3, bd = 0, bg = \"#\n",
        "two = Button(btns_frame, text = \"2\", fg = \"black\", width = 10, height = 3, bd = 0, bg = \"#\n",
        "three = Button(btns_frame, text = \"3\", fg = \"black\", width = 10, height = 3, bd = 0, bg =\n",
        "plus = Button(btns_frame, text = \"+\", fg = \"black\", width = 10, height = 3, bd = 0, bg = \"#\n",
        "# fifth row\n",
        "zero = Button(btns_frame, text = \"0\", fg = \"black\", width = 21, height = 3, bd = 0, bg = \"#\n",
        "point = Button(btns_frame, text = \".\", fg = \"black\", width = 10, height = 3, bd = 0, bg =\n",
        "equals = Button(btns_frame, text = \"=\", fg = \"black\", width = 10, height = 3, bd = 0, bg =\n",
        "win.mainloop"
      ],
      "execution_count": null,
      "outputs": [
        {
          "output_type": "error",
          "ename": "SyntaxError",
          "evalue": "ignored",
          "traceback": [
            "\u001b[0;36m  File \u001b[0;32m\"<ipython-input-43-4b9dc8941a67>\"\u001b[0;36m, line \u001b[0;32m1\u001b[0m\n\u001b[0;31m    PROGRAM:\u001b[0m\n\u001b[0m            ^\u001b[0m\n\u001b[0;31mSyntaxError\u001b[0m\u001b[0;31m:\u001b[0m invalid syntax\n"
          ]
        }
      ]
    },
    {
      "cell_type": "markdown",
      "metadata": {
        "id": "ZhvSlZXUIvvU"
      },
      "source": [
        " \n",
        "2)Write a program to implement the following figures using turtle.\n",
        " \n",
        "Aim:\n",
        " \n",
        "Write a program to implement the following figures using turtle.\n",
        " \n",
        "DESCRIPTION:\n",
        " \n",
        "The turtle module is an extended reimplementation of the same-named module from the Python standard distribution up to version Python 2.5.\n",
        "It tries to keep the merits of the old turtle module and to be (nearly) 100% compatible with it. This means in the first place to enable the learning programmer to use all the commands, classes and methods interactively when using the module from within IDLE run with the -n switch.\n",
        "The turtle module provides turtle graphics primitives, in both object-oriented and procedure￾oriented ways. Because it uses tkinter for the underlying graphics, it needs a version of Python installed with Tk support.\n",
        "PROGRAM:"
      ]
    },
    {
      "cell_type": "code",
      "metadata": {
        "id": "-tCqfw4Yb4G2"
      },
      "source": [
        " import turtle\n",
        "c=[\"red\",\"green\",\"blue\"]\n",
        "i=0\n",
        "turtle.pensize(5)\n",
        " \n",
        "for angle in range(0,360,30):\n",
        "    if i>2:\n",
        "        i=0\n",
        "    turtle.color(c[i])\n",
        "    turtle.seth(angle)\n",
        "    turtle.circle(50)\n",
        "    i+=1"
      ],
      "execution_count": null,
      "outputs": []
    },
    {
      "cell_type": "code",
      "metadata": {
        "id": "QzlVq0qMb43A"
      },
      "source": [
        " import turtle\n",
        "turtle.pensize(1)\n",
        "\n",
        "for i in range(36):\n",
        "    for j in range(4):\n",
        "        turtle.forward(70)\n",
        "        turtle.left(90)\n",
        "    turtle.left"
      ],
      "execution_count": null,
      "outputs": []
    },
    {
      "cell_type": "code",
      "metadata": {
        "id": "7NB-zvoUaQE_"
      },
      "source": [
        ""
      ],
      "execution_count": null,
      "outputs": []
    },
    {
      "cell_type": "markdown",
      "metadata": {
        "id": "5HYoMgllJKBu"
      },
      "source": [
        " \n",
        "Exercise 15: Testing\n",
        " \n",
        "a)Write a test case to check the function even numbers which return true on passing a list of all even numbers.\n",
        " \n",
        "Aim:\n",
        "Write a test case to check the function even numbers which return true on passing a list of all even numbers.\n",
        " \n",
        "DESCRIPTION:\n",
        " \n",
        "TestCase is used to create test cases by subclassing it. The last block of the code at the bottom allows us to run all the tests just by running the file. Basic terms used in the code : assertEqual() – This statement is used to check if the result obtained is equal to the expected result\n",
        "test case: A test case is a set of conditions which is used to determine whether a system under test works correctly.\n",
        "Program:"
      ]
    },
    {
      "cell_type": "code",
      "metadata": {
        "colab": {
          "base_uri": "https://localhost:8080/"
        },
        "id": "njt5bU9RcNbc",
        "outputId": "bb9f426d-aa8f-4557-e2f4-7703381d954b"
      },
      "source": [
        " def evnNo(num):\n",
        "   stat=True\n",
        " \n",
        "   for i in num:\n",
        "     if i%2 ==1:\n",
        "       stat=False\n",
        "       break\n",
        "   return stat\n",
        " \n",
        "numbers=[]\n",
        "for i in range(0,2):\n",
        "    numbers.append(int(input(\"Enter a value\")))\n",
        "print(evnNo(numbers))"
      ],
      "execution_count": null,
      "outputs": [
        {
          "output_type": "stream",
          "name": "stdout",
          "text": [
            "Enter a value10\n",
            "Enter a value20\n",
            "True\n"
          ]
        }
      ]
    },
    {
      "cell_type": "markdown",
      "metadata": {
        "id": "yf-uMaakcfab"
      },
      "source": [
        " b) Write a test-case to check the function reverse string which returns the reversed string\n",
        " \n",
        "Aim : Write a test-case to check the function reverse string which returns the reversed string\n",
        " \n",
        "DESCRIPTION:\n",
        " \n",
        "TestCase is used to create test cases by subclassing it. The last block of the code at the bottom allows us to run all the tests just by running the file. Basic terms used in the code : assertEqual()\n",
        " \n",
        "– This statement is used to check if the result obtained is equal to the expected result\n",
        " \n",
        "test case:\n",
        " \n",
        "A test case is a set of conditions which is used to determine whether a system under test works correctly.\n",
        " \n",
        "Program:"
      ]
    },
    {
      "cell_type": "code",
      "metadata": {
        "colab": {
          "base_uri": "https://localhost:8080/"
        },
        "id": "opYFh8uNcuCo",
        "outputId": "9eed794d-d164-47bd-eaa0-01686f1a12db"
      },
      "source": [
        " def rev_str(st):\n",
        "    return st[::-1]\n",
        " \n",
        "st=\"engineering\"\n",
        "print(\"Given String is: \",st)\n",
        " \n",
        "print(\"Reverse is: \",rev_str(st))"
      ],
      "execution_count": null,
      "outputs": [
        {
          "output_type": "stream",
          "name": "stdout",
          "text": [
            "Given String is:  engineering\n",
            "Reverse is:  gnireenigne\n"
          ]
        }
      ]
    },
    {
      "cell_type": "markdown",
      "metadata": {
        "id": "4YT_FhAhc0_U"
      },
      "source": [
        " \n",
        " \n",
        " \n",
        "Exercise - 16 - Advanced\n",
        " \n",
        "a) Build any one classical data structure.\n",
        " \n",
        "Aim:\n",
        " \n",
        "Build any one classical data structure.\n",
        " \n",
        "DESCRIPTION:\n",
        " \n",
        "What is a Data Structure?\n",
        " \n",
        "Organizing, managing and storing data is important as it enables easier access and efficient modifications. Data Structures allows you to organize your data in such a way that enables you to store collections of data, relate them and perform operations on them accordingly .\n",
        " \n",
        "Stack Stacks are linear Data Structures which are based on the principle of Last-In-First-Out (LIFO) where data which is entered last will be the first to get accessed. It is built using the array structure and has operations namely, pushing (adding) elements, popping (deleting) elementsand accessing elements only from one point in the stack called as the TOP. This TOP is the pointer to the current position of the stack. Stacks are prominently used in applications such as Recursive Programming, reversing words, undo mechanisms in word editors and so forth."
      ]
    },
    {
      "cell_type": "code",
      "metadata": {
        "colab": {
          "base_uri": "https://localhost:8080/",
          "height": 288
        },
        "id": "Jcu7xTuEdBNN",
        "outputId": "98bead97-6b88-4d6c-cc02-17346d2e672d"
      },
      "source": [
        " import sys\n",
        "a=[]\n",
        "while True:\n",
        "  print(\"1.PUSH 2.POP 3.DISPLAY 4.EXIT\")\n",
        "  ch=int(input(\"Enter your choice:\"))\n",
        "  if ch==1:\n",
        "    ele=int(input(\"Enter element:\"))\n",
        "    a.append(ele)\n",
        "    print(\"Element is inserted\")\n",
        "  elif ch==2:\n",
        "    if len(a)==0:\n",
        "      print(\"Stack is empty\")\n",
        "    else:\n",
        "      print(\"poped element is \",a[len(a)-1])\n",
        "      a.remove(a[len(a)-1])\n",
        "  elif ch==3:\n",
        "    if len(a)==0:\n",
        "      print(\"Stack is empty\")\n",
        "    else:\n",
        "      print(\"Element in stack is \")\n",
        "      for i in a:\n",
        "        print(i)\n",
        "  elif ch==4:\n",
        "    sys.exit()\n",
        "  else:\n",
        "    print(\"Invalid choice\")"
      ],
      "execution_count": null,
      "outputs": [
        {
          "name": "stdout",
          "output_type": "stream",
          "text": [
            "1.PUSH 2.POP 3.DISPLAY 4.EXIT\n",
            "Enter your choice:1\n",
            "Enter element:2\n",
            "Element is inserted\n",
            "1.PUSH 2.POP 3.DISPLAY 4.EXIT\n",
            "Enter your choice:4\n"
          ]
        },
        {
          "output_type": "error",
          "ename": "SystemExit",
          "evalue": "ignored",
          "traceback": [
            "An exception has occurred, use %tb to see the full traceback.\n",
            "\u001b[0;31mSystemExit\u001b[0m\n"
          ]
        },
        {
          "output_type": "stream",
          "name": "stderr",
          "text": [
            "/usr/local/lib/python3.7/dist-packages/IPython/core/interactiveshell.py:2890: UserWarning: To exit: use 'exit', 'quit', or Ctrl-D.\n",
            "  warn(\"To exit: use 'exit', 'quit', or Ctrl-D.\", stacklevel=1)\n"
          ]
        }
      ]
    },
    {
      "cell_type": "markdown",
      "metadata": {
        "id": "QtDlp03rdMhW"
      },
      "source": [
        " \n",
        "b) Write a program to solve knapsack problem\n",
        " \n",
        "Aim:\n",
        " \n",
        "Write a program to solve knapsack problem\n",
        " \n",
        "DESCRIPTION:\n",
        " \n",
        "Python Program for 0-1 Knapsack Problem\n",
        "Problem statement − We are given weights and values of n items, we need to put these items in a bag of capacity W up to the maximum capacity w. We need to carry a maximum number of items and return its value.\n",
        "Brute-force approach.\n",
        "dynamic approach."
      ]
    },
    {
      "cell_type": "code",
      "metadata": {
        "colab": {
          "base_uri": "https://localhost:8080/",
          "height": 182
        },
        "id": "cqfaF0vhdTCI",
        "outputId": "ff376ae0-bc22-4187-a9bc-719cda91ef7f"
      },
      "source": [
        " def knapSack(W,wt,val,n): \n",
        " K=[[0 for x in range(W+1)] for x in range(n+1)]\n",
        "for i in range(n+1):\n",
        "  for w in range(W+1):\n",
        "   if i==0 or w==0:\n",
        "      K[i][w]=0\n",
        "   elif wt[i-1]<=w:\n",
        "      K[i][w]=max(val[i-1]+ K[i-1][w-wt[i-1]],K[i-1][w]) \n",
        "   else:\n",
        "      K[i][w]=K[i-1][w]\n",
        "return K[n][W]\n",
        "val= [5,3,4]\n",
        "wt=[3,2,1]\n",
        "W=5\n",
        "n=len(val)\n",
        "print(\"Maximum value knapsack of capacity W: \","
      ],
      "execution_count": null,
      "outputs": [
        {
          "output_type": "error",
          "ename": "IndentationError",
          "evalue": "ignored",
          "traceback": [
            "\u001b[0;36m  File \u001b[0;32m\"<ipython-input-51-cc8912097a45>\"\u001b[0;36m, line \u001b[0;32m2\u001b[0m\n\u001b[0;31m    K=[[0 for x in range(W+1)] for x in range(n+1)]\u001b[0m\n\u001b[0m    ^\u001b[0m\n\u001b[0;31mIndentationError\u001b[0m\u001b[0;31m:\u001b[0m expected an indented block\n"
          ]
        }
      ]
    },
    {
      "cell_type": "markdown",
      "metadata": {
        "id": "hFJJjMYNdZe-"
      },
      "source": [
        " \n",
        "Exercise - 17-Data Analysis\n",
        " \n",
        "Data analysis or manipulation using the following packages\n",
        " \n",
        "a) Numpy b) Pandas\n",
        " \n",
        "Exercise - 17 - Advanced Data analysis or manipulation using the following packages\n",
        " \n",
        "a) Scipy b) matplotlib"
      ]
    },
    {
      "cell_type": "markdown",
      "metadata": {
        "id": "a96D13iCdqZX"
      },
      "source": [
        " \n",
        "description:\n",
        " \n",
        "how to analyze data using Python. ... It includes following parts: Data Analysis libraries: will learn to use Pandas, Numpy and Scipy libraries to work with a sample dataset. We will introduce you to pandas, an open-source library, and we will use it to load, manipulate, analyze, and visualize cool datasets\n",
        " \n",
        ".\n",
        "SciPy is a free and open-source Python library used for scientific computing and technical computing. It is a collection of mathematical algorithms and convenience functions built on the NumPy extension of Python\n",
        " \n",
        "NumPy is the fundamental package for scientifi\n",
        "c computing in Python. ... NumPy arrays facilitate advanced mathematical and other types of operations on large numbers of data.\n",
        " \n",
        " \n",
        "Matplotlib is a plotting library for the Python programming language and its numerical mathematics extension NumPy. It provides an object-oriented API for embedding plots into applications using general-purpose GUI toolkits like Tkinter, wxPython, Qt, or GTK\n",
        " \n",
        "Pandas is an open source Python package that is most widely used for data science/data analysis and machine learning tasks. It is built on top of another package named Numpy, which provides support for multi-dimensional arrays.\n",
        " \n",
        "Scikit-learn is probably the most useful library for machine learning in Python. The sklearn library contains a lot of efficient tools for machine learning and statistical modeling including classification, regression, clustering and dimensionality reduction. Seaborn is a library in Python predominantly used for making statistical graphics.\n",
        " \n",
        "Seaborn is a data visualization library built on top of matplotlib and closely integrated with pandas data structures in Python Program:"
      ]
    },
    {
      "cell_type": "code",
      "metadata": {
        "id": "fn-bbx_aeRLi"
      },
      "source": [
        " import sys\n",
        " \n",
        "print('Python:{}'.format(sys.version))\n",
        " \n",
        "#scipy\n",
        " \n",
        "import scipy\n",
        "print('scipy: {}'.format(scipy.__version__))\n",
        " \n",
        "#numpy \n",
        " \n",
        "import numpy\n",
        "print('numpy:{}'.format(numpy.__version__))\n",
        " \n",
        "#matplotlib \n",
        " \n",
        "import matplotlib\n",
        "print('matplotlib:{}'.format(matplotlib.__version__))\n",
        " \n",
        "#pandas \n",
        " \n",
        "import pandas\n",
        "print('pandas:{}'.format(pandas. __version__))\n",
        " \n",
        "#scikit-learn\n",
        " \n",
        "import sklearn\n",
        "print('sklearn:{}'.format(sklearn.__version__))\n",
        " \n",
        "import seaborn\n",
        "print('seaborn: {}'.format(seaborn.__version__)) \n",
        " \n",
        "import urllib\n",
        "print('urlib:{}'.format(urllib.__name__)) \n",
        " \n",
        "import csv\n",
        "print('csv: {}'.format(csv.__version__))"
      ],
      "execution_count": null,
      "outputs": []
    },
    {
      "cell_type": "code",
      "metadata": {
        "colab": {
          "base_uri": "https://localhost:8080/"
        },
        "id": "O5OXejSdeaBY",
        "outputId": "0d967728-00e7-4fc7-9dc4-81e8c1e62bee"
      },
      "source": [
        " import numpy as np\n",
        "x=np.array(5) #0-dimension array\n",
        "print(x.dtype)\n",
        "print(x.ndim)\n",
        "print(x.shape)\n",
        "print(x)"
      ],
      "execution_count": null,
      "outputs": [
        {
          "output_type": "stream",
          "name": "stdout",
          "text": [
            "int64\n",
            "0\n",
            "()\n",
            "5\n"
          ]
        }
      ]
    },
    {
      "cell_type": "code",
      "metadata": {
        "colab": {
          "base_uri": "https://localhost:8080/"
        },
        "id": "Z4onTPUcedm5",
        "outputId": "0744b229-8d9c-4954-aff5-eec4adb1427e"
      },
      "source": [
        " data=np.array([2,6,3,7,8]) #1-dimension array\n",
        "print(type(data))\n",
        "print(data)\n",
        "print(data[4])"
      ],
      "execution_count": null,
      "outputs": [
        {
          "output_type": "stream",
          "name": "stdout",
          "text": [
            "<class 'numpy.ndarray'>\n",
            "[2 6 3 7 8]\n",
            "8\n"
          ]
        }
      ]
    },
    {
      "cell_type": "code",
      "metadata": {
        "colab": {
          "base_uri": "https://localhost:8080/"
        },
        "id": "9rqAjeB2eg3Q",
        "outputId": "2872b19f-a35f-488c-b6de-f0c0880f7361"
      },
      "source": [
        " m=np.array([[1,2,3],[4,5,6],[7,8,9]]) #2-dimension array\n",
        "print(m.ndim)\n",
        "print(m.shape)\n",
        "print(m)\n",
        "print(m[2,0:3])"
      ],
      "execution_count": null,
      "outputs": [
        {
          "output_type": "stream",
          "name": "stdout",
          "text": [
            "2\n",
            "(3, 3)\n",
            "[[1 2 3]\n",
            " [4 5 6]\n",
            " [7 8 9]]\n",
            "[7 8 9]\n"
          ]
        }
      ]
    },
    {
      "cell_type": "code",
      "metadata": {
        "colab": {
          "base_uri": "https://localhost:8080/"
        },
        "id": "qPZuB7zuek4v",
        "outputId": "3081c80b-785b-4365-c243-67d6f76b8630"
      },
      "source": [
        " data=np.array([2,6,3,9],ndmin=5) #n-dimension array\n",
        "print(type(data))"
      ],
      "execution_count": null,
      "outputs": [
        {
          "output_type": "stream",
          "name": "stdout",
          "text": [
            "<class 'numpy.ndarray'>\n"
          ]
        }
      ]
    },
    {
      "cell_type": "code",
      "metadata": {
        "colab": {
          "base_uri": "https://localhost:8080/"
        },
        "id": "qJw0XPgYeomd",
        "outputId": "9d13b882-b7ce-4ca2-cbcb-5fec299c6ce7"
      },
      "source": [
        " arr=np.array([23,12,43,56,76,15])\n",
        "x=arr.copy()\n",
        "arr[0]=5\n",
        "print(x)\n",
        "print(arr)"
      ],
      "execution_count": null,
      "outputs": [
        {
          "output_type": "stream",
          "name": "stdout",
          "text": [
            "[23 12 43 56 76 15]\n",
            "[ 5 12 43 56 76 15]\n"
          ]
        }
      ]
    },
    {
      "cell_type": "code",
      "metadata": {
        "colab": {
          "base_uri": "https://localhost:8080/"
        },
        "id": "5I6j9sRjer1-",
        "outputId": "f2fda814-8d45-4621-9b1d-25060a2502f0"
      },
      "source": [
        " arr1=np.array([[23,12,43],[56,76,15]])\n",
        "arr2=np.array([[33,42,12],[68,2,54]])\n",
        "arr=np.concatenate((arr1,arr2),axis=0)\n",
        "print(arr)\n",
        "arr=np.concatenate((arr1,arr2),axis=1)\n",
        "print(arr)\n",
        "print(np.array_split(arr,4))"
      ],
      "execution_count": null,
      "outputs": [
        {
          "output_type": "stream",
          "name": "stdout",
          "text": [
            "[[23 12 43]\n",
            " [56 76 15]\n",
            " [33 42 12]\n",
            " [68  2 54]]\n",
            "[[23 12 43 33 42 12]\n",
            " [56 76 15 68  2 54]]\n",
            "[array([[23, 12, 43, 33, 42, 12]]), array([[56, 76, 15, 68,  2, 54]]), array([], shape=(0, 6), dtype=int64), array([], shape=(0, 6), dtype=int64)]\n"
          ]
        }
      ]
    },
    {
      "cell_type": "code",
      "metadata": {
        "colab": {
          "base_uri": "https://localhost:8080/"
        },
        "id": "rMWu6XAXevXf",
        "outputId": "2d4a72eb-19fc-4b74-c54f-1d87b5ac890f"
      },
      "source": [
        " from numpy import random\n",
        "x=random.randint(100,size=5)\n",
        "print(x)"
      ],
      "execution_count": null,
      "outputs": [
        {
          "output_type": "stream",
          "name": "stdout",
          "text": [
            "[82 82  9 48 53]\n"
          ]
        }
      ]
    },
    {
      "cell_type": "code",
      "metadata": {
        "colab": {
          "base_uri": "https://localhost:8080/"
        },
        "id": "zH3TKau_eyzG",
        "outputId": "f751a8b1-53d7-41e0-c05f-436a94c5637f"
      },
      "source": [
        " y=random.rand(3,2)\n",
        "print(y)"
      ],
      "execution_count": null,
      "outputs": [
        {
          "output_type": "stream",
          "name": "stdout",
          "text": [
            "[[0.61461488 0.16860193]\n",
            " [0.33605088 0.38374137]\n",
            " [0.55726888 0.3988521 ]]\n"
          ]
        }
      ]
    },
    {
      "cell_type": "code",
      "metadata": {
        "colab": {
          "base_uri": "https://localhost:8080/"
        },
        "id": "FB8dUnPEe3EG",
        "outputId": "30a500df-9bfb-4e32-bcec-188db5e37216"
      },
      "source": [
        " z=random.choice([2,5,1,7,8,3])\n",
        "print(z)"
      ],
      "execution_count": null,
      "outputs": [
        {
          "output_type": "stream",
          "name": "stdout",
          "text": [
            "7\n"
          ]
        }
      ]
    },
    {
      "cell_type": "code",
      "metadata": {
        "colab": {
          "base_uri": "https://localhost:8080/"
        },
        "id": "TrBQBdbZe65i",
        "outputId": "cf591940-eabd-4865-fbfc-4c82156bbd30"
      },
      "source": [
        " import pandas as pd\n",
        "data=pd.Series([1,2,3,4,5],index=['A','B','C','D','E'])\n",
        "print(data)"
      ],
      "execution_count": null,
      "outputs": [
        {
          "output_type": "stream",
          "name": "stdout",
          "text": [
            "A    1\n",
            "B    2\n",
            "C    3\n",
            "D    4\n",
            "E    5\n",
            "dtype: int64\n"
          ]
        }
      ]
    },
    {
      "cell_type": "code",
      "metadata": {
        "colab": {
          "base_uri": "https://localhost:8080/"
        },
        "id": "H105UV4Ee_Ub",
        "outputId": "b404444d-f0e9-4c7f-d2f2-312f7abbfd61"
      },
      "source": [
        " data={'Gen':['M','F','M'],'EiD':[101,102,103],'Age':[26,30,24],'Name':[\"karthik\",\"siva\",\"kiran\"]}\n",
        "d=pd.DataFrame(data,columns=['EiD','Name','Gen','Age'])\n",
        "print(d)"
      ],
      "execution_count": null,
      "outputs": [
        {
          "output_type": "stream",
          "name": "stdout",
          "text": [
            "   EiD     Name Gen  Age\n",
            "0  101  karthik   M   26\n",
            "1  102     siva   F   30\n",
            "2  103    kiran   M   24\n"
          ]
        }
      ]
    },
    {
      "cell_type": "code",
      "metadata": {
        "colab": {
          "base_uri": "https://localhost:8080/"
        },
        "id": "ArDRNwhefCiQ",
        "outputId": "7e040a74-5720-44b8-b53c-d231c006dae6"
      },
      "source": [
        " from scipy import constants\n",
        "print(constants.pi)\n",
        "print(constants.deci)\n",
        "print(constants.kilo)\n",
        "print(constants.milli)"
      ],
      "execution_count": null,
      "outputs": [
        {
          "output_type": "stream",
          "name": "stdout",
          "text": [
            "3.141592653589793\n",
            "0.1\n",
            "1000.0\n",
            "0.001\n"
          ]
        }
      ]
    },
    {
      "cell_type": "code",
      "metadata": {
        "colab": {
          "base_uri": "https://localhost:8080/"
        },
        "id": "U4mK8FGZfIqt",
        "outputId": "be3aa7f1-7f2b-460c-a314-9c7f2654f59f"
      },
      "source": [
        " from scipy import linalg\n",
        "import numpy as np\n",
        "x=np.array([[2,4,1],[7,5,3],[4,2,1]])\n",
        "y=np.array([2,1,7])\n",
        "z=linalg.solve(x,y)\n",
        "print(z)"
      ],
      "execution_count": null,
      "outputs": [
        {
          "output_type": "stream",
          "name": "stdout",
          "text": [
            "[  3.75   1.25 -10.5 ]\n"
          ]
        }
      ]
    },
    {
      "cell_type": "code",
      "metadata": {
        "colab": {
          "base_uri": "https://localhost:8080/"
        },
        "id": "xwsqwT0DfL0c",
        "outputId": "4c99307c-cc09-470a-b261-7510fcb1d090"
      },
      "source": [
        " from scipy import linalg\n",
        "import numpy as np\n",
        "A=np.array([[2,4,1],[7,5,3],[2,9,6]])\n",
        "x=linalg.det(A)\n",
        "print(x)"
      ],
      "execution_count": null,
      "outputs": [
        {
          "output_type": "stream",
          "name": "stdout",
          "text": [
            "-85.0\n"
          ]
        }
      ]
    },
    {
      "cell_type": "code",
      "metadata": {
        "colab": {
          "base_uri": "https://localhost:8080/"
        },
        "id": "YanRwrkbfPC8",
        "outputId": "f640c2e1-08c6-42c2-9ed2-1675c86221ad"
      },
      "source": [
        " from scipy import linalg\n",
        "import numpy as np\n",
        "A=np.array([[2,4,1],[7,5,3],[2,9,6]])\n",
        "x,y=linalg.eig(A)\n",
        "print(\"Eigean values:\",x)\n",
        "print(\"Eigean vector:\",y)"
      ],
      "execution_count": null,
      "outputs": [
        {
          "output_type": "stream",
          "name": "stdout",
          "text": [
            "Eigean values: [12.8756074 +0.j -2.50792017+0.j  2.63231277+0.j]\n",
            "Eigean vector: [[ 0.27329417  0.45632869 -0.29839612]\n",
            " [ 0.5448779  -0.66271731 -0.27561521]\n",
            " [ 0.79272843  0.59377596  0.91378116]]\n"
          ]
        }
      ]
    },
    {
      "cell_type": "markdown",
      "metadata": {
        "id": "0DF7goYEfSsY"
      },
      "source": [
        "b)Mataplotlib"
      ]
    },
    {
      "cell_type": "code",
      "metadata": {
        "colab": {
          "base_uri": "https://localhost:8080/",
          "height": 232
        },
        "id": "3WKn-gXOfaDP",
        "outputId": "d44dc015-dc4c-4d7b-9454-61686b3998dd"
      },
      "source": [
        " import matplotlib.pyplot as mtp\n",
        "import numpy as np\n",
        "x=np.array([3,5,7,9,11])\n",
        "y=np.array([43,97,23,36,97])\n",
        "mtp.plot(x,y)\n",
        "mtp.show()"
      ],
      "execution_count": null,
      "outputs": [
        {
          "output_type": "display_data",
          "data": {
            "image/png": "[encoded data removed]",
            "text/plain": [
              "<Figure size 432x288 with 1 Axes>"
            ]
          },
          "metadata": {
            "needs_background": "light"
          }
        }
      ]
    },
    {
      "cell_type": "code",
      "metadata": {
        "colab": {
          "base_uri": "https://localhost:8080/",
          "height": 231
        },
        "id": "5pphaaAPff-Y",
        "outputId": "ca923da4-cb43-4cb8-9ea6-eb337146e2ea"
      },
      "source": [
        " x=np.array([2,5,7,10,13])\n",
        "y=np.array([45,97,13,56,77])\n",
        "mtp.bar(x,y)\n",
        "mtp.show()"
      ],
      "execution_count": null,
      "outputs": [
        {
          "output_type": "display_data",
          "data": {
            "image/png": "[encoded data removed]",
            "text/plain": [
              "<Figure size 432x288 with 1 Axes>"
            ]
          },
          "metadata": {
            "needs_background": "light"
          }
        }
      ]
    },
    {
      "cell_type": "code",
      "metadata": {
        "colab": {
          "base_uri": "https://localhost:8080/",
          "height": 248
        },
        "id": "nzR0PRtg86El",
        "outputId": "08aae749-135a-45bb-a75e-00a80a107d61"
      },
      "source": [
        " import matplotlib.pyplot as mtp\n",
        "import numpy as np\n",
        "x=np.array([35,20,15,27,3])\n",
        "mylabel=['paddy','cotton','chilli','major','lemon']\n",
        "mtp.pie(x,labels=mylabel)\n",
        "mtp.show()"
      ],
      "execution_count": null,
      "outputs": [
        {
          "output_type": "display_data",
          "data": {
            "image/png": "[encoded data removed]",
            "text/plain": [
              "<Figure size 432x288 with 1 Axes>"
            ]
          },
          "metadata": {}
        }
      ]
    }
  ]
}